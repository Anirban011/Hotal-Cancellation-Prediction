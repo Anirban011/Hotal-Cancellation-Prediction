{
 "cells": [
  {
   "cell_type": "code",
   "execution_count": 1,
   "id": "9e561077",
   "metadata": {},
   "outputs": [],
   "source": [
    "import pandas as pd\n",
    "import numpy as np\n",
    "import matplotlib.pyplot as plt\n",
    "import seaborn as sns\n",
    "import statsmodels.api as sm\n",
    "from scipy.stats import chi2_contingency\n",
    "from statsmodels.formula.api import ols\n",
    "pd.set_option('display.max_columns',80)\n",
    "from statsmodels.stats.multicomp import pairwise_tukeyhsd"
   ]
  },
  {
   "cell_type": "code",
   "execution_count": 2,
   "id": "0441ef8b",
   "metadata": {},
   "outputs": [],
   "source": [
    "df = pd.read_csv('C:\\\\Users\\\\Sambhu\\\\Desktop\\\\Imarticus\\\\Class Material\\\\kaggle\\\\Hotel Reservations.csv')"
   ]
  },
  {
   "cell_type": "code",
   "execution_count": 3,
   "id": "e2eb8259",
   "metadata": {},
   "outputs": [
    {
     "data": {
      "text/html": [
       "<div>\n",
       "<style scoped>\n",
       "    .dataframe tbody tr th:only-of-type {\n",
       "        vertical-align: middle;\n",
       "    }\n",
       "\n",
       "    .dataframe tbody tr th {\n",
       "        vertical-align: top;\n",
       "    }\n",
       "\n",
       "    .dataframe thead th {\n",
       "        text-align: right;\n",
       "    }\n",
       "</style>\n",
       "<table border=\"1\" class=\"dataframe\">\n",
       "  <thead>\n",
       "    <tr style=\"text-align: right;\">\n",
       "      <th></th>\n",
       "      <th>Booking_ID</th>\n",
       "      <th>no_of_adults</th>\n",
       "      <th>no_of_children</th>\n",
       "      <th>no_of_weekend_nights</th>\n",
       "      <th>no_of_week_nights</th>\n",
       "      <th>type_of_meal_plan</th>\n",
       "      <th>required_car_parking_space</th>\n",
       "      <th>room_type_reserved</th>\n",
       "      <th>lead_time</th>\n",
       "      <th>arrival_year</th>\n",
       "      <th>arrival_month</th>\n",
       "      <th>arrival_date</th>\n",
       "      <th>market_segment_type</th>\n",
       "      <th>repeated_guest</th>\n",
       "      <th>no_of_previous_cancellations</th>\n",
       "      <th>no_of_previous_bookings_not_canceled</th>\n",
       "      <th>avg_price_per_room</th>\n",
       "      <th>no_of_special_requests</th>\n",
       "      <th>booking_status</th>\n",
       "    </tr>\n",
       "  </thead>\n",
       "  <tbody>\n",
       "    <tr>\n",
       "      <th>0</th>\n",
       "      <td>INN00001</td>\n",
       "      <td>2</td>\n",
       "      <td>0</td>\n",
       "      <td>1</td>\n",
       "      <td>2</td>\n",
       "      <td>Meal Plan 1</td>\n",
       "      <td>0</td>\n",
       "      <td>Room_Type 1</td>\n",
       "      <td>224</td>\n",
       "      <td>2017</td>\n",
       "      <td>10</td>\n",
       "      <td>2</td>\n",
       "      <td>Offline</td>\n",
       "      <td>0</td>\n",
       "      <td>0</td>\n",
       "      <td>0</td>\n",
       "      <td>65.00</td>\n",
       "      <td>0</td>\n",
       "      <td>Not_Canceled</td>\n",
       "    </tr>\n",
       "    <tr>\n",
       "      <th>1</th>\n",
       "      <td>INN00002</td>\n",
       "      <td>2</td>\n",
       "      <td>0</td>\n",
       "      <td>2</td>\n",
       "      <td>3</td>\n",
       "      <td>Not Selected</td>\n",
       "      <td>0</td>\n",
       "      <td>Room_Type 1</td>\n",
       "      <td>5</td>\n",
       "      <td>2018</td>\n",
       "      <td>11</td>\n",
       "      <td>6</td>\n",
       "      <td>Online</td>\n",
       "      <td>0</td>\n",
       "      <td>0</td>\n",
       "      <td>0</td>\n",
       "      <td>106.68</td>\n",
       "      <td>1</td>\n",
       "      <td>Not_Canceled</td>\n",
       "    </tr>\n",
       "    <tr>\n",
       "      <th>2</th>\n",
       "      <td>INN00003</td>\n",
       "      <td>1</td>\n",
       "      <td>0</td>\n",
       "      <td>2</td>\n",
       "      <td>1</td>\n",
       "      <td>Meal Plan 1</td>\n",
       "      <td>0</td>\n",
       "      <td>Room_Type 1</td>\n",
       "      <td>1</td>\n",
       "      <td>2018</td>\n",
       "      <td>2</td>\n",
       "      <td>28</td>\n",
       "      <td>Online</td>\n",
       "      <td>0</td>\n",
       "      <td>0</td>\n",
       "      <td>0</td>\n",
       "      <td>60.00</td>\n",
       "      <td>0</td>\n",
       "      <td>Canceled</td>\n",
       "    </tr>\n",
       "    <tr>\n",
       "      <th>3</th>\n",
       "      <td>INN00004</td>\n",
       "      <td>2</td>\n",
       "      <td>0</td>\n",
       "      <td>0</td>\n",
       "      <td>2</td>\n",
       "      <td>Meal Plan 1</td>\n",
       "      <td>0</td>\n",
       "      <td>Room_Type 1</td>\n",
       "      <td>211</td>\n",
       "      <td>2018</td>\n",
       "      <td>5</td>\n",
       "      <td>20</td>\n",
       "      <td>Online</td>\n",
       "      <td>0</td>\n",
       "      <td>0</td>\n",
       "      <td>0</td>\n",
       "      <td>100.00</td>\n",
       "      <td>0</td>\n",
       "      <td>Canceled</td>\n",
       "    </tr>\n",
       "    <tr>\n",
       "      <th>4</th>\n",
       "      <td>INN00005</td>\n",
       "      <td>2</td>\n",
       "      <td>0</td>\n",
       "      <td>1</td>\n",
       "      <td>1</td>\n",
       "      <td>Not Selected</td>\n",
       "      <td>0</td>\n",
       "      <td>Room_Type 1</td>\n",
       "      <td>48</td>\n",
       "      <td>2018</td>\n",
       "      <td>4</td>\n",
       "      <td>11</td>\n",
       "      <td>Online</td>\n",
       "      <td>0</td>\n",
       "      <td>0</td>\n",
       "      <td>0</td>\n",
       "      <td>94.50</td>\n",
       "      <td>0</td>\n",
       "      <td>Canceled</td>\n",
       "    </tr>\n",
       "  </tbody>\n",
       "</table>\n",
       "</div>"
      ],
      "text/plain": [
       "  Booking_ID  no_of_adults  no_of_children  no_of_weekend_nights  \\\n",
       "0   INN00001             2               0                     1   \n",
       "1   INN00002             2               0                     2   \n",
       "2   INN00003             1               0                     2   \n",
       "3   INN00004             2               0                     0   \n",
       "4   INN00005             2               0                     1   \n",
       "\n",
       "   no_of_week_nights type_of_meal_plan  required_car_parking_space  \\\n",
       "0                  2       Meal Plan 1                           0   \n",
       "1                  3      Not Selected                           0   \n",
       "2                  1       Meal Plan 1                           0   \n",
       "3                  2       Meal Plan 1                           0   \n",
       "4                  1      Not Selected                           0   \n",
       "\n",
       "  room_type_reserved  lead_time  arrival_year  arrival_month  arrival_date  \\\n",
       "0        Room_Type 1        224          2017             10             2   \n",
       "1        Room_Type 1          5          2018             11             6   \n",
       "2        Room_Type 1          1          2018              2            28   \n",
       "3        Room_Type 1        211          2018              5            20   \n",
       "4        Room_Type 1         48          2018              4            11   \n",
       "\n",
       "  market_segment_type  repeated_guest  no_of_previous_cancellations  \\\n",
       "0             Offline               0                             0   \n",
       "1              Online               0                             0   \n",
       "2              Online               0                             0   \n",
       "3              Online               0                             0   \n",
       "4              Online               0                             0   \n",
       "\n",
       "   no_of_previous_bookings_not_canceled  avg_price_per_room  \\\n",
       "0                                     0               65.00   \n",
       "1                                     0              106.68   \n",
       "2                                     0               60.00   \n",
       "3                                     0              100.00   \n",
       "4                                     0               94.50   \n",
       "\n",
       "   no_of_special_requests booking_status  \n",
       "0                       0   Not_Canceled  \n",
       "1                       1   Not_Canceled  \n",
       "2                       0       Canceled  \n",
       "3                       0       Canceled  \n",
       "4                       0       Canceled  "
      ]
     },
     "execution_count": 3,
     "metadata": {},
     "output_type": "execute_result"
    }
   ],
   "source": [
    "df.head()"
   ]
  },
  {
   "cell_type": "code",
   "execution_count": 4,
   "id": "ad5ef808",
   "metadata": {},
   "outputs": [
    {
     "name": "stdout",
     "output_type": "stream",
     "text": [
      "<class 'pandas.core.frame.DataFrame'>\n",
      "RangeIndex: 36275 entries, 0 to 36274\n",
      "Data columns (total 19 columns):\n",
      " #   Column                                Non-Null Count  Dtype  \n",
      "---  ------                                --------------  -----  \n",
      " 0   Booking_ID                            36275 non-null  object \n",
      " 1   no_of_adults                          36275 non-null  int64  \n",
      " 2   no_of_children                        36275 non-null  int64  \n",
      " 3   no_of_weekend_nights                  36275 non-null  int64  \n",
      " 4   no_of_week_nights                     36275 non-null  int64  \n",
      " 5   type_of_meal_plan                     36275 non-null  object \n",
      " 6   required_car_parking_space            36275 non-null  int64  \n",
      " 7   room_type_reserved                    36275 non-null  object \n",
      " 8   lead_time                             36275 non-null  int64  \n",
      " 9   arrival_year                          36275 non-null  int64  \n",
      " 10  arrival_month                         36275 non-null  int64  \n",
      " 11  arrival_date                          36275 non-null  int64  \n",
      " 12  market_segment_type                   36275 non-null  object \n",
      " 13  repeated_guest                        36275 non-null  int64  \n",
      " 14  no_of_previous_cancellations          36275 non-null  int64  \n",
      " 15  no_of_previous_bookings_not_canceled  36275 non-null  int64  \n",
      " 16  avg_price_per_room                    36275 non-null  float64\n",
      " 17  no_of_special_requests                36275 non-null  int64  \n",
      " 18  booking_status                        36275 non-null  object \n",
      "dtypes: float64(1), int64(13), object(5)\n",
      "memory usage: 5.3+ MB\n"
     ]
    }
   ],
   "source": [
    "df.info()"
   ]
  },
  {
   "cell_type": "code",
   "execution_count": 5,
   "id": "4fe09f82",
   "metadata": {},
   "outputs": [],
   "source": [
    "df.drop_duplicates(subset=['Booking_ID'], inplace= True)"
   ]
  },
  {
   "cell_type": "code",
   "execution_count": 6,
   "id": "0b7c195a",
   "metadata": {},
   "outputs": [],
   "source": [
    "del df['Booking_ID']"
   ]
  },
  {
   "cell_type": "code",
   "execution_count": 7,
   "id": "36b32bfc",
   "metadata": {},
   "outputs": [
    {
     "data": {
      "text/plain": [
       "no_of_adults                            0\n",
       "no_of_children                          0\n",
       "no_of_weekend_nights                    0\n",
       "no_of_week_nights                       0\n",
       "type_of_meal_plan                       0\n",
       "required_car_parking_space              0\n",
       "room_type_reserved                      0\n",
       "lead_time                               0\n",
       "arrival_year                            0\n",
       "arrival_month                           0\n",
       "arrival_date                            0\n",
       "market_segment_type                     0\n",
       "repeated_guest                          0\n",
       "no_of_previous_cancellations            0\n",
       "no_of_previous_bookings_not_canceled    0\n",
       "avg_price_per_room                      0\n",
       "no_of_special_requests                  0\n",
       "booking_status                          0\n",
       "dtype: int64"
      ]
     },
     "execution_count": 7,
     "metadata": {},
     "output_type": "execute_result"
    }
   ],
   "source": [
    "df.isnull().sum()"
   ]
  },
  {
   "cell_type": "code",
   "execution_count": 8,
   "id": "2fc0e4c0",
   "metadata": {},
   "outputs": [
    {
     "data": {
      "text/plain": [
       "Not_Canceled    24390\n",
       "Canceled        11885\n",
       "Name: booking_status, dtype: int64"
      ]
     },
     "execution_count": 8,
     "metadata": {},
     "output_type": "execute_result"
    }
   ],
   "source": [
    "df.booking_status.value_counts()"
   ]
  },
  {
   "cell_type": "code",
   "execution_count": 9,
   "id": "08406000",
   "metadata": {},
   "outputs": [
    {
     "data": {
      "image/png": "[encoded data removed]",
      "text/plain": [
       "<Figure size 2160x720 with 1 Axes>"
      ]
     },
     "metadata": {},
     "output_type": "display_data"
    }
   ],
   "source": [
    "plt.figure(figsize=(30,10))\n",
    "plt.pie(df.booking_status.value_counts().values, labels=df.booking_status.value_counts().index, autopct='%1.2f%%')\n",
    "plt.show()"
   ]
  },
  {
   "cell_type": "code",
   "execution_count": 10,
   "id": "b35c1d65",
   "metadata": {},
   "outputs": [
    {
     "data": {
      "text/plain": [
       "Meal Plan 1     27835\n",
       "Not Selected     5130\n",
       "Meal Plan 2      3305\n",
       "Meal Plan 3         5\n",
       "Name: type_of_meal_plan, dtype: int64"
      ]
     },
     "execution_count": 10,
     "metadata": {},
     "output_type": "execute_result"
    }
   ],
   "source": [
    "df.type_of_meal_plan.value_counts()"
   ]
  },
  {
   "cell_type": "code",
   "execution_count": 11,
   "id": "272c8091",
   "metadata": {},
   "outputs": [
    {
     "data": {
      "image/png": "[encoded data removed]",
      "text/plain": [
       "<Figure size 2160x720 with 1 Axes>"
      ]
     },
     "metadata": {},
     "output_type": "display_data"
    }
   ],
   "source": [
    "plt.figure(figsize=(30,10))\n",
    "plt.pie(df.type_of_meal_plan.value_counts().values, labels=df.type_of_meal_plan.value_counts().index, autopct='%1.2f%%')\n",
    "plt.show()"
   ]
  },
  {
   "cell_type": "code",
   "execution_count": 12,
   "id": "c9f859c6",
   "metadata": {},
   "outputs": [
    {
     "data": {
      "text/plain": [
       "0    35151\n",
       "1     1124\n",
       "Name: required_car_parking_space, dtype: int64"
      ]
     },
     "execution_count": 12,
     "metadata": {},
     "output_type": "execute_result"
    }
   ],
   "source": [
    "df.required_car_parking_space.value_counts()"
   ]
  },
  {
   "cell_type": "code",
   "execution_count": 13,
   "id": "91703671",
   "metadata": {},
   "outputs": [
    {
     "data": {
      "image/png": "[encoded data removed]",
      "text/plain": [
       "<Figure size 2160x720 with 1 Axes>"
      ]
     },
     "metadata": {},
     "output_type": "display_data"
    }
   ],
   "source": [
    "plt.figure(figsize=(30,10))\n",
    "plt.pie(df.required_car_parking_space.value_counts().values, labels=df.required_car_parking_space.value_counts().index, autopct='%1.2f%%')\n",
    "plt.show()"
   ]
  },
  {
   "cell_type": "code",
   "execution_count": 14,
   "id": "0d5029d5",
   "metadata": {},
   "outputs": [
    {
     "data": {
      "text/plain": [
       "Room_Type 1    28130\n",
       "Room_Type 4     6057\n",
       "Room_Type 6      966\n",
       "Room_Type 2      692\n",
       "Room_Type 5      265\n",
       "Room_Type 7      158\n",
       "Room_Type 3        7\n",
       "Name: room_type_reserved, dtype: int64"
      ]
     },
     "execution_count": 14,
     "metadata": {},
     "output_type": "execute_result"
    }
   ],
   "source": [
    "df.room_type_reserved.value_counts()"
   ]
  },
  {
   "cell_type": "code",
   "execution_count": 15,
   "id": "28828848",
   "metadata": {},
   "outputs": [
    {
     "data": {
      "image/png": "[encoded data removed]",
      "text/plain": [
       "<Figure size 2160x720 with 1 Axes>"
      ]
     },
     "metadata": {},
     "output_type": "display_data"
    }
   ],
   "source": [
    "plt.figure(figsize=(30,10))\n",
    "plt.pie(df.room_type_reserved.value_counts().values, labels=df.room_type_reserved.value_counts().index, autopct='%1.2f%%')\n",
    "plt.show()"
   ]
  },
  {
   "cell_type": "code",
   "execution_count": 16,
   "id": "90908e2e",
   "metadata": {},
   "outputs": [
    {
     "data": {
      "text/plain": [
       "2018    29761\n",
       "2017     6514\n",
       "Name: arrival_year, dtype: int64"
      ]
     },
     "execution_count": 16,
     "metadata": {},
     "output_type": "execute_result"
    }
   ],
   "source": [
    "df.arrival_year.value_counts()"
   ]
  },
  {
   "cell_type": "code",
   "execution_count": 17,
   "id": "4cbfcb6c",
   "metadata": {},
   "outputs": [
    {
     "data": {
      "image/png": "[encoded data removed]",
      "text/plain": [
       "<Figure size 2160x720 with 1 Axes>"
      ]
     },
     "metadata": {},
     "output_type": "display_data"
    }
   ],
   "source": [
    "plt.figure(figsize=(30,10))\n",
    "plt.pie(df.arrival_year.value_counts().values, labels=df.arrival_year.value_counts().index, autopct='%1.2f%%')\n",
    "plt.show()"
   ]
  },
  {
   "cell_type": "code",
   "execution_count": 18,
   "id": "a8626c98",
   "metadata": {},
   "outputs": [
    {
     "data": {
      "text/plain": [
       "Online           23214\n",
       "Offline          10528\n",
       "Corporate         2017\n",
       "Complementary      391\n",
       "Aviation           125\n",
       "Name: market_segment_type, dtype: int64"
      ]
     },
     "execution_count": 18,
     "metadata": {},
     "output_type": "execute_result"
    }
   ],
   "source": [
    "df.market_segment_type.value_counts()"
   ]
  },
  {
   "cell_type": "code",
   "execution_count": 19,
   "id": "a11fcc82",
   "metadata": {},
   "outputs": [
    {
     "data": {
      "image/png": "[encoded data removed]",
      "text/plain": [
       "<Figure size 2160x720 with 1 Axes>"
      ]
     },
     "metadata": {},
     "output_type": "display_data"
    }
   ],
   "source": [
    "plt.figure(figsize=(30,10))\n",
    "plt.pie(df.market_segment_type.value_counts().values, labels=df.market_segment_type.value_counts().index, autopct='%1.2f%%')\n",
    "plt.show()"
   ]
  },
  {
   "cell_type": "code",
   "execution_count": 20,
   "id": "8385b4f7",
   "metadata": {},
   "outputs": [
    {
     "data": {
      "text/plain": [
       "0    35345\n",
       "1      930\n",
       "Name: repeated_guest, dtype: int64"
      ]
     },
     "execution_count": 20,
     "metadata": {},
     "output_type": "execute_result"
    }
   ],
   "source": [
    "df.repeated_guest.value_counts()"
   ]
  },
  {
   "cell_type": "code",
   "execution_count": 21,
   "id": "5b804c59",
   "metadata": {},
   "outputs": [
    {
     "data": {
      "image/png": "[encoded data removed]",
      "text/plain": [
       "<Figure size 2160x720 with 1 Axes>"
      ]
     },
     "metadata": {},
     "output_type": "display_data"
    }
   ],
   "source": [
    "plt.figure(figsize=(30,10))\n",
    "plt.pie(df.repeated_guest.value_counts().values, labels=df.repeated_guest.value_counts().index, autopct='%1.2f%%')\n",
    "plt.show()"
   ]
  },
  {
   "cell_type": "code",
   "execution_count": 22,
   "id": "454a487c",
   "metadata": {},
   "outputs": [],
   "source": [
    "# From the above pie charts below are inferences\n",
    "\n",
    "# Around 30% of the cancel after booking\n",
    "# Majorly 76% select booking with meal plan 14% do not select any meal plan. May be the hotel can look to remove other meal plans.\n",
    "# 96% of people do not require parking.\n",
    "# Room_type 1 booking is around 77%, Room_type booking is around 16%\n",
    "# 82% booking happened 2018, \n",
    "# 64% booking happens online, 30% booking happens offline\n",
    "# Only 2.5% are repeated guest\n",
    "\n",
    "# From the above pie-chart we have found out the major contributors which affects Cancelling and Not Cancelling"
   ]
  },
  {
   "cell_type": "code",
   "execution_count": 23,
   "id": "a91874f7",
   "metadata": {},
   "outputs": [],
   "source": [
    "df_dummies = pd.get_dummies(df[['type_of_meal_plan', 'required_car_parking_space', 'room_type_reserved', 'arrival_year', 'market_segment_type', 'repeated_guest', 'booking_status']])"
   ]
  },
  {
   "cell_type": "code",
   "execution_count": 24,
   "id": "399225d9",
   "metadata": {},
   "outputs": [
    {
     "data": {
      "text/html": [
       "<div>\n",
       "<style scoped>\n",
       "    .dataframe tbody tr th:only-of-type {\n",
       "        vertical-align: middle;\n",
       "    }\n",
       "\n",
       "    .dataframe tbody tr th {\n",
       "        vertical-align: top;\n",
       "    }\n",
       "\n",
       "    .dataframe thead th {\n",
       "        text-align: right;\n",
       "    }\n",
       "</style>\n",
       "<table border=\"1\" class=\"dataframe\">\n",
       "  <thead>\n",
       "    <tr style=\"text-align: right;\">\n",
       "      <th></th>\n",
       "      <th>required_car_parking_space</th>\n",
       "      <th>arrival_year</th>\n",
       "      <th>repeated_guest</th>\n",
       "      <th>type_of_meal_plan_Meal Plan 1</th>\n",
       "      <th>type_of_meal_plan_Meal Plan 2</th>\n",
       "      <th>type_of_meal_plan_Meal Plan 3</th>\n",
       "      <th>type_of_meal_plan_Not Selected</th>\n",
       "      <th>room_type_reserved_Room_Type 1</th>\n",
       "      <th>room_type_reserved_Room_Type 2</th>\n",
       "      <th>room_type_reserved_Room_Type 3</th>\n",
       "      <th>room_type_reserved_Room_Type 4</th>\n",
       "      <th>room_type_reserved_Room_Type 5</th>\n",
       "      <th>room_type_reserved_Room_Type 6</th>\n",
       "      <th>room_type_reserved_Room_Type 7</th>\n",
       "      <th>market_segment_type_Aviation</th>\n",
       "      <th>market_segment_type_Complementary</th>\n",
       "      <th>market_segment_type_Corporate</th>\n",
       "      <th>market_segment_type_Offline</th>\n",
       "      <th>market_segment_type_Online</th>\n",
       "      <th>booking_status_Canceled</th>\n",
       "      <th>booking_status_Not_Canceled</th>\n",
       "    </tr>\n",
       "  </thead>\n",
       "  <tbody>\n",
       "    <tr>\n",
       "      <th>0</th>\n",
       "      <td>0</td>\n",
       "      <td>2017</td>\n",
       "      <td>0</td>\n",
       "      <td>1</td>\n",
       "      <td>0</td>\n",
       "      <td>0</td>\n",
       "      <td>0</td>\n",
       "      <td>1</td>\n",
       "      <td>0</td>\n",
       "      <td>0</td>\n",
       "      <td>0</td>\n",
       "      <td>0</td>\n",
       "      <td>0</td>\n",
       "      <td>0</td>\n",
       "      <td>0</td>\n",
       "      <td>0</td>\n",
       "      <td>0</td>\n",
       "      <td>1</td>\n",
       "      <td>0</td>\n",
       "      <td>0</td>\n",
       "      <td>1</td>\n",
       "    </tr>\n",
       "    <tr>\n",
       "      <th>1</th>\n",
       "      <td>0</td>\n",
       "      <td>2018</td>\n",
       "      <td>0</td>\n",
       "      <td>0</td>\n",
       "      <td>0</td>\n",
       "      <td>0</td>\n",
       "      <td>1</td>\n",
       "      <td>1</td>\n",
       "      <td>0</td>\n",
       "      <td>0</td>\n",
       "      <td>0</td>\n",
       "      <td>0</td>\n",
       "      <td>0</td>\n",
       "      <td>0</td>\n",
       "      <td>0</td>\n",
       "      <td>0</td>\n",
       "      <td>0</td>\n",
       "      <td>0</td>\n",
       "      <td>1</td>\n",
       "      <td>0</td>\n",
       "      <td>1</td>\n",
       "    </tr>\n",
       "    <tr>\n",
       "      <th>2</th>\n",
       "      <td>0</td>\n",
       "      <td>2018</td>\n",
       "      <td>0</td>\n",
       "      <td>1</td>\n",
       "      <td>0</td>\n",
       "      <td>0</td>\n",
       "      <td>0</td>\n",
       "      <td>1</td>\n",
       "      <td>0</td>\n",
       "      <td>0</td>\n",
       "      <td>0</td>\n",
       "      <td>0</td>\n",
       "      <td>0</td>\n",
       "      <td>0</td>\n",
       "      <td>0</td>\n",
       "      <td>0</td>\n",
       "      <td>0</td>\n",
       "      <td>0</td>\n",
       "      <td>1</td>\n",
       "      <td>1</td>\n",
       "      <td>0</td>\n",
       "    </tr>\n",
       "    <tr>\n",
       "      <th>3</th>\n",
       "      <td>0</td>\n",
       "      <td>2018</td>\n",
       "      <td>0</td>\n",
       "      <td>1</td>\n",
       "      <td>0</td>\n",
       "      <td>0</td>\n",
       "      <td>0</td>\n",
       "      <td>1</td>\n",
       "      <td>0</td>\n",
       "      <td>0</td>\n",
       "      <td>0</td>\n",
       "      <td>0</td>\n",
       "      <td>0</td>\n",
       "      <td>0</td>\n",
       "      <td>0</td>\n",
       "      <td>0</td>\n",
       "      <td>0</td>\n",
       "      <td>0</td>\n",
       "      <td>1</td>\n",
       "      <td>1</td>\n",
       "      <td>0</td>\n",
       "    </tr>\n",
       "    <tr>\n",
       "      <th>4</th>\n",
       "      <td>0</td>\n",
       "      <td>2018</td>\n",
       "      <td>0</td>\n",
       "      <td>0</td>\n",
       "      <td>0</td>\n",
       "      <td>0</td>\n",
       "      <td>1</td>\n",
       "      <td>1</td>\n",
       "      <td>0</td>\n",
       "      <td>0</td>\n",
       "      <td>0</td>\n",
       "      <td>0</td>\n",
       "      <td>0</td>\n",
       "      <td>0</td>\n",
       "      <td>0</td>\n",
       "      <td>0</td>\n",
       "      <td>0</td>\n",
       "      <td>0</td>\n",
       "      <td>1</td>\n",
       "      <td>1</td>\n",
       "      <td>0</td>\n",
       "    </tr>\n",
       "  </tbody>\n",
       "</table>\n",
       "</div>"
      ],
      "text/plain": [
       "   required_car_parking_space  arrival_year  repeated_guest  \\\n",
       "0                           0          2017               0   \n",
       "1                           0          2018               0   \n",
       "2                           0          2018               0   \n",
       "3                           0          2018               0   \n",
       "4                           0          2018               0   \n",
       "\n",
       "   type_of_meal_plan_Meal Plan 1  type_of_meal_plan_Meal Plan 2  \\\n",
       "0                              1                              0   \n",
       "1                              0                              0   \n",
       "2                              1                              0   \n",
       "3                              1                              0   \n",
       "4                              0                              0   \n",
       "\n",
       "   type_of_meal_plan_Meal Plan 3  type_of_meal_plan_Not Selected  \\\n",
       "0                              0                               0   \n",
       "1                              0                               1   \n",
       "2                              0                               0   \n",
       "3                              0                               0   \n",
       "4                              0                               1   \n",
       "\n",
       "   room_type_reserved_Room_Type 1  room_type_reserved_Room_Type 2  \\\n",
       "0                               1                               0   \n",
       "1                               1                               0   \n",
       "2                               1                               0   \n",
       "3                               1                               0   \n",
       "4                               1                               0   \n",
       "\n",
       "   room_type_reserved_Room_Type 3  room_type_reserved_Room_Type 4  \\\n",
       "0                               0                               0   \n",
       "1                               0                               0   \n",
       "2                               0                               0   \n",
       "3                               0                               0   \n",
       "4                               0                               0   \n",
       "\n",
       "   room_type_reserved_Room_Type 5  room_type_reserved_Room_Type 6  \\\n",
       "0                               0                               0   \n",
       "1                               0                               0   \n",
       "2                               0                               0   \n",
       "3                               0                               0   \n",
       "4                               0                               0   \n",
       "\n",
       "   room_type_reserved_Room_Type 7  market_segment_type_Aviation  \\\n",
       "0                               0                             0   \n",
       "1                               0                             0   \n",
       "2                               0                             0   \n",
       "3                               0                             0   \n",
       "4                               0                             0   \n",
       "\n",
       "   market_segment_type_Complementary  market_segment_type_Corporate  \\\n",
       "0                                  0                              0   \n",
       "1                                  0                              0   \n",
       "2                                  0                              0   \n",
       "3                                  0                              0   \n",
       "4                                  0                              0   \n",
       "\n",
       "   market_segment_type_Offline  market_segment_type_Online  \\\n",
       "0                            1                           0   \n",
       "1                            0                           1   \n",
       "2                            0                           1   \n",
       "3                            0                           1   \n",
       "4                            0                           1   \n",
       "\n",
       "   booking_status_Canceled  booking_status_Not_Canceled  \n",
       "0                        0                            1  \n",
       "1                        0                            1  \n",
       "2                        1                            0  \n",
       "3                        1                            0  \n",
       "4                        1                            0  "
      ]
     },
     "execution_count": 24,
     "metadata": {},
     "output_type": "execute_result"
    }
   ],
   "source": [
    "df_dummies.head()"
   ]
  },
  {
   "cell_type": "code",
   "execution_count": 25,
   "id": "0fd1e365",
   "metadata": {},
   "outputs": [
    {
     "data": {
      "text/plain": [
       "<AxesSubplot:>"
      ]
     },
     "execution_count": 25,
     "metadata": {},
     "output_type": "execute_result"
    },
    {
     "data": {
      "image/png": "[encoded data removed]",
      "text/plain": [
       "<Figure size 1080x576 with 1 Axes>"
      ]
     },
     "metadata": {
      "needs_background": "light"
     },
     "output_type": "display_data"
    }
   ],
   "source": [
    "plt.figure(figsize=(15,8))\n",
    "df_dummies.corr()['booking_status_Canceled'].sort_values(ascending=False).plot(kind='bar')"
   ]
  },
  {
   "cell_type": "code",
   "execution_count": 26,
   "id": "3df88b24",
   "metadata": {},
   "outputs": [],
   "source": [
    "# Few good things observed from the above plot, Corporate bookings, repeated guests, Meal Plan 1, Room Type 1 -ve related to cancellation.\n",
    "# Room Type 1 with Meal Plan 1 are majority of the guest\n",
    "# Hotel needs to focus to increase corporate guests and repeated guests"
   ]
  },
  {
   "cell_type": "code",
   "execution_count": 27,
   "id": "acd54715",
   "metadata": {
    "scrolled": true
   },
   "outputs": [],
   "source": [
    "# sns.pairplot(data=df, hue='booking_status')"
   ]
  },
  {
   "cell_type": "code",
   "execution_count": 28,
   "id": "6b6a5cf4",
   "metadata": {},
   "outputs": [],
   "source": [
    "# From the above plots we try to draw a plane for seperating categories, so logistic regression can be applied."
   ]
  },
  {
   "cell_type": "code",
   "execution_count": 29,
   "id": "47b4a747",
   "metadata": {},
   "outputs": [
    {
     "data": {
      "text/plain": [
       "<AxesSubplot:xlabel='arrival_year', ylabel='count'>"
      ]
     },
     "execution_count": 29,
     "metadata": {},
     "output_type": "execute_result"
    },
    {
     "data": {
      "image/png": "[encoded data removed]",
      "text/plain": [
       "<Figure size 432x288 with 1 Axes>"
      ]
     },
     "metadata": {
      "needs_background": "light"
     },
     "output_type": "display_data"
    }
   ],
   "source": [
    "sns.countplot(x=df.arrival_year, hue=df.booking_status)"
   ]
  },
  {
   "cell_type": "code",
   "execution_count": 30,
   "id": "4acf7d03",
   "metadata": {},
   "outputs": [
    {
     "data": {
      "text/plain": [
       "[<matplotlib.lines.Line2D at 0x22757ac0550>]"
      ]
     },
     "execution_count": 30,
     "metadata": {},
     "output_type": "execute_result"
    },
    {
     "data": {
      "image/png": "[encoded data removed]",
      "text/plain": [
       "<Figure size 432x288 with 1 Axes>"
      ]
     },
     "metadata": {
      "needs_background": "light"
     },
     "output_type": "display_data"
    }
   ],
   "source": [
    "plt.plot(df.booking_status.groupby(df.arrival_year).count())"
   ]
  },
  {
   "cell_type": "code",
   "execution_count": 31,
   "id": "21de4cad",
   "metadata": {},
   "outputs": [],
   "source": [
    "# Looks like data is missing for certain part of the year in 2017"
   ]
  },
  {
   "cell_type": "code",
   "execution_count": 32,
   "id": "21b31aec",
   "metadata": {},
   "outputs": [],
   "source": [
    "# df_year_month = df[['arrival_year', 'arrival_month']]"
   ]
  },
  {
   "cell_type": "code",
   "execution_count": 33,
   "id": "37c26525",
   "metadata": {},
   "outputs": [
    {
     "data": {
      "text/plain": [
       "10    1913\n",
       "9     1649\n",
       "8     1014\n",
       "12     928\n",
       "11     647\n",
       "7      363\n",
       "Name: arrival_month, dtype: int64"
      ]
     },
     "execution_count": 33,
     "metadata": {},
     "output_type": "execute_result"
    }
   ],
   "source": [
    "df.arrival_month[df.arrival_year == 2017].value_counts()"
   ]
  },
  {
   "cell_type": "code",
   "execution_count": 34,
   "id": "4e3c914e",
   "metadata": {},
   "outputs": [],
   "source": [
    "# Looks like the data is available from the month of july in 2017."
   ]
  },
  {
   "cell_type": "code",
   "execution_count": 35,
   "id": "6d03a7db",
   "metadata": {
    "scrolled": true
   },
   "outputs": [
    {
     "data": {
      "text/plain": [
       "<AxesSubplot:xlabel='arrival_month', ylabel='count'>"
      ]
     },
     "execution_count": 35,
     "metadata": {},
     "output_type": "execute_result"
    },
    {
     "data": {
      "image/png": "[encoded data removed]",
      "text/plain": [
       "<Figure size 432x288 with 1 Axes>"
      ]
     },
     "metadata": {
      "needs_background": "light"
     },
     "output_type": "display_data"
    }
   ],
   "source": [
    "sns.countplot(x=df.arrival_month, hue=df.booking_status)"
   ]
  },
  {
   "cell_type": "code",
   "execution_count": 36,
   "id": "6f926a1a",
   "metadata": {
    "scrolled": true
   },
   "outputs": [
    {
     "data": {
      "text/plain": [
       "[<matplotlib.lines.Line2D at 0x22757bde130>]"
      ]
     },
     "execution_count": 36,
     "metadata": {},
     "output_type": "execute_result"
    },
    {
     "data": {
      "image/png": "[encoded data removed]",
      "text/plain": [
       "<Figure size 432x288 with 1 Axes>"
      ]
     },
     "metadata": {
      "needs_background": "light"
     },
     "output_type": "display_data"
    }
   ],
   "source": [
    "plt.plot(df.booking_status.groupby(df.arrival_month).count())"
   ]
  },
  {
   "cell_type": "code",
   "execution_count": 37,
   "id": "aad9e087",
   "metadata": {},
   "outputs": [],
   "source": [
    "# On Overall picture we see that there is gradual increase in bookings, but there is sudden dip in bookings in November and December\n",
    "# Same pattern is follwed in cancellation percentage, but percentage is very high in june and july, keeps decreasing August to December"
   ]
  },
  {
   "cell_type": "code",
   "execution_count": 38,
   "id": "f3d94f68",
   "metadata": {},
   "outputs": [
    {
     "data": {
      "text/plain": [
       "<AxesSubplot:xlabel='arrival_date', ylabel='count'>"
      ]
     },
     "execution_count": 38,
     "metadata": {},
     "output_type": "execute_result"
    },
    {
     "data": {
      "image/png": "[encoded data removed]",
      "text/plain": [
       "<Figure size 1440x720 with 1 Axes>"
      ]
     },
     "metadata": {
      "needs_background": "light"
     },
     "output_type": "display_data"
    }
   ],
   "source": [
    "plt.figure(figsize=(20,10))\n",
    "sns.countplot(x=df.arrival_date, hue=df.booking_status)"
   ]
  },
  {
   "cell_type": "code",
   "execution_count": 39,
   "id": "4ffc2f19",
   "metadata": {},
   "outputs": [
    {
     "data": {
      "text/plain": [
       "[<matplotlib.lines.Line2D at 0x22757ff6e80>]"
      ]
     },
     "execution_count": 39,
     "metadata": {},
     "output_type": "execute_result"
    },
    {
     "data": {
      "image/png": "[encoded data removed]",
      "text/plain": [
       "<Figure size 432x288 with 1 Axes>"
      ]
     },
     "metadata": {
      "needs_background": "light"
     },
     "output_type": "display_data"
    }
   ],
   "source": [
    "plt.plot(df.booking_status.groupby(df.arrival_date).count())"
   ]
  },
  {
   "cell_type": "code",
   "execution_count": 40,
   "id": "ca3d100a",
   "metadata": {},
   "outputs": [],
   "source": [
    "# Cancellation percentage is almost same across all days, but we see a sudden dip in booking in the month end"
   ]
  },
  {
   "cell_type": "markdown",
   "id": "e953fc95",
   "metadata": {},
   "source": [
    "## We will analyse data seperately for 2018"
   ]
  },
  {
   "cell_type": "code",
   "execution_count": 41,
   "id": "373390a2",
   "metadata": {},
   "outputs": [],
   "source": [
    "df_2018 = df[df.arrival_year == 2018]"
   ]
  },
  {
   "cell_type": "code",
   "execution_count": 42,
   "id": "de2f0a29",
   "metadata": {},
   "outputs": [
    {
     "data": {
      "text/html": [
       "<div>\n",
       "<style scoped>\n",
       "    .dataframe tbody tr th:only-of-type {\n",
       "        vertical-align: middle;\n",
       "    }\n",
       "\n",
       "    .dataframe tbody tr th {\n",
       "        vertical-align: top;\n",
       "    }\n",
       "\n",
       "    .dataframe thead th {\n",
       "        text-align: right;\n",
       "    }\n",
       "</style>\n",
       "<table border=\"1\" class=\"dataframe\">\n",
       "  <thead>\n",
       "    <tr style=\"text-align: right;\">\n",
       "      <th></th>\n",
       "      <th>no_of_adults</th>\n",
       "      <th>no_of_children</th>\n",
       "      <th>no_of_weekend_nights</th>\n",
       "      <th>no_of_week_nights</th>\n",
       "      <th>type_of_meal_plan</th>\n",
       "      <th>required_car_parking_space</th>\n",
       "      <th>room_type_reserved</th>\n",
       "      <th>lead_time</th>\n",
       "      <th>arrival_year</th>\n",
       "      <th>arrival_month</th>\n",
       "      <th>arrival_date</th>\n",
       "      <th>market_segment_type</th>\n",
       "      <th>repeated_guest</th>\n",
       "      <th>no_of_previous_cancellations</th>\n",
       "      <th>no_of_previous_bookings_not_canceled</th>\n",
       "      <th>avg_price_per_room</th>\n",
       "      <th>no_of_special_requests</th>\n",
       "      <th>booking_status</th>\n",
       "    </tr>\n",
       "  </thead>\n",
       "  <tbody>\n",
       "    <tr>\n",
       "      <th>1</th>\n",
       "      <td>2</td>\n",
       "      <td>0</td>\n",
       "      <td>2</td>\n",
       "      <td>3</td>\n",
       "      <td>Not Selected</td>\n",
       "      <td>0</td>\n",
       "      <td>Room_Type 1</td>\n",
       "      <td>5</td>\n",
       "      <td>2018</td>\n",
       "      <td>11</td>\n",
       "      <td>6</td>\n",
       "      <td>Online</td>\n",
       "      <td>0</td>\n",
       "      <td>0</td>\n",
       "      <td>0</td>\n",
       "      <td>106.68</td>\n",
       "      <td>1</td>\n",
       "      <td>Not_Canceled</td>\n",
       "    </tr>\n",
       "    <tr>\n",
       "      <th>2</th>\n",
       "      <td>1</td>\n",
       "      <td>0</td>\n",
       "      <td>2</td>\n",
       "      <td>1</td>\n",
       "      <td>Meal Plan 1</td>\n",
       "      <td>0</td>\n",
       "      <td>Room_Type 1</td>\n",
       "      <td>1</td>\n",
       "      <td>2018</td>\n",
       "      <td>2</td>\n",
       "      <td>28</td>\n",
       "      <td>Online</td>\n",
       "      <td>0</td>\n",
       "      <td>0</td>\n",
       "      <td>0</td>\n",
       "      <td>60.00</td>\n",
       "      <td>0</td>\n",
       "      <td>Canceled</td>\n",
       "    </tr>\n",
       "    <tr>\n",
       "      <th>3</th>\n",
       "      <td>2</td>\n",
       "      <td>0</td>\n",
       "      <td>0</td>\n",
       "      <td>2</td>\n",
       "      <td>Meal Plan 1</td>\n",
       "      <td>0</td>\n",
       "      <td>Room_Type 1</td>\n",
       "      <td>211</td>\n",
       "      <td>2018</td>\n",
       "      <td>5</td>\n",
       "      <td>20</td>\n",
       "      <td>Online</td>\n",
       "      <td>0</td>\n",
       "      <td>0</td>\n",
       "      <td>0</td>\n",
       "      <td>100.00</td>\n",
       "      <td>0</td>\n",
       "      <td>Canceled</td>\n",
       "    </tr>\n",
       "    <tr>\n",
       "      <th>4</th>\n",
       "      <td>2</td>\n",
       "      <td>0</td>\n",
       "      <td>1</td>\n",
       "      <td>1</td>\n",
       "      <td>Not Selected</td>\n",
       "      <td>0</td>\n",
       "      <td>Room_Type 1</td>\n",
       "      <td>48</td>\n",
       "      <td>2018</td>\n",
       "      <td>4</td>\n",
       "      <td>11</td>\n",
       "      <td>Online</td>\n",
       "      <td>0</td>\n",
       "      <td>0</td>\n",
       "      <td>0</td>\n",
       "      <td>94.50</td>\n",
       "      <td>0</td>\n",
       "      <td>Canceled</td>\n",
       "    </tr>\n",
       "    <tr>\n",
       "      <th>5</th>\n",
       "      <td>2</td>\n",
       "      <td>0</td>\n",
       "      <td>0</td>\n",
       "      <td>2</td>\n",
       "      <td>Meal Plan 2</td>\n",
       "      <td>0</td>\n",
       "      <td>Room_Type 1</td>\n",
       "      <td>346</td>\n",
       "      <td>2018</td>\n",
       "      <td>9</td>\n",
       "      <td>13</td>\n",
       "      <td>Online</td>\n",
       "      <td>0</td>\n",
       "      <td>0</td>\n",
       "      <td>0</td>\n",
       "      <td>115.00</td>\n",
       "      <td>1</td>\n",
       "      <td>Canceled</td>\n",
       "    </tr>\n",
       "  </tbody>\n",
       "</table>\n",
       "</div>"
      ],
      "text/plain": [
       "   no_of_adults  no_of_children  no_of_weekend_nights  no_of_week_nights  \\\n",
       "1             2               0                     2                  3   \n",
       "2             1               0                     2                  1   \n",
       "3             2               0                     0                  2   \n",
       "4             2               0                     1                  1   \n",
       "5             2               0                     0                  2   \n",
       "\n",
       "  type_of_meal_plan  required_car_parking_space room_type_reserved  lead_time  \\\n",
       "1      Not Selected                           0        Room_Type 1          5   \n",
       "2       Meal Plan 1                           0        Room_Type 1          1   \n",
       "3       Meal Plan 1                           0        Room_Type 1        211   \n",
       "4      Not Selected                           0        Room_Type 1         48   \n",
       "5       Meal Plan 2                           0        Room_Type 1        346   \n",
       "\n",
       "   arrival_year  arrival_month  arrival_date market_segment_type  \\\n",
       "1          2018             11             6              Online   \n",
       "2          2018              2            28              Online   \n",
       "3          2018              5            20              Online   \n",
       "4          2018              4            11              Online   \n",
       "5          2018              9            13              Online   \n",
       "\n",
       "   repeated_guest  no_of_previous_cancellations  \\\n",
       "1               0                             0   \n",
       "2               0                             0   \n",
       "3               0                             0   \n",
       "4               0                             0   \n",
       "5               0                             0   \n",
       "\n",
       "   no_of_previous_bookings_not_canceled  avg_price_per_room  \\\n",
       "1                                     0              106.68   \n",
       "2                                     0               60.00   \n",
       "3                                     0              100.00   \n",
       "4                                     0               94.50   \n",
       "5                                     0              115.00   \n",
       "\n",
       "   no_of_special_requests booking_status  \n",
       "1                       1   Not_Canceled  \n",
       "2                       0       Canceled  \n",
       "3                       0       Canceled  \n",
       "4                       0       Canceled  \n",
       "5                       1       Canceled  "
      ]
     },
     "execution_count": 42,
     "metadata": {},
     "output_type": "execute_result"
    }
   ],
   "source": [
    "df_2018.head()"
   ]
  },
  {
   "cell_type": "code",
   "execution_count": 43,
   "id": "513bd3ad",
   "metadata": {},
   "outputs": [
    {
     "data": {
      "text/plain": [
       "10    3404\n",
       "6     3203\n",
       "9     2962\n",
       "8     2799\n",
       "4     2736\n",
       "5     2598\n",
       "7     2557\n",
       "3     2358\n",
       "11    2333\n",
       "12    2093\n",
       "2     1704\n",
       "1     1014\n",
       "Name: arrival_month, dtype: int64"
      ]
     },
     "execution_count": 43,
     "metadata": {},
     "output_type": "execute_result"
    }
   ],
   "source": [
    "df_2018.arrival_month[df_2018.arrival_year == 2018].value_counts()"
   ]
  },
  {
   "cell_type": "code",
   "execution_count": 44,
   "id": "c0b9eac3",
   "metadata": {
    "scrolled": true
   },
   "outputs": [
    {
     "data": {
      "text/plain": [
       "<AxesSubplot:xlabel='arrival_month', ylabel='count'>"
      ]
     },
     "execution_count": 44,
     "metadata": {},
     "output_type": "execute_result"
    },
    {
     "data": {
      "image/png": "[encoded data removed]",
      "text/plain": [
       "<Figure size 1440x720 with 1 Axes>"
      ]
     },
     "metadata": {
      "needs_background": "light"
     },
     "output_type": "display_data"
    }
   ],
   "source": [
    "plt.figure(figsize=(20,10))\n",
    "sns.countplot(x=df_2018.arrival_month, hue=df_2018.booking_status)"
   ]
  },
  {
   "cell_type": "code",
   "execution_count": 45,
   "id": "1d7d8b0e",
   "metadata": {
    "scrolled": true
   },
   "outputs": [
    {
     "data": {
      "text/plain": [
       "[<matplotlib.lines.Line2D at 0x2275846c1c0>]"
      ]
     },
     "execution_count": 45,
     "metadata": {},
     "output_type": "execute_result"
    },
    {
     "data": {
      "image/png": "[encoded data removed]",
      "text/plain": [
       "<Figure size 432x288 with 1 Axes>"
      ]
     },
     "metadata": {
      "needs_background": "light"
     },
     "output_type": "display_data"
    }
   ],
   "source": [
    "plt.plot(df_2018.booking_status.groupby(df_2018.arrival_month).count())"
   ]
  },
  {
   "cell_type": "code",
   "execution_count": 46,
   "id": "21c39b51",
   "metadata": {},
   "outputs": [
    {
     "data": {
      "text/plain": [
       "<AxesSubplot:xlabel='arrival_date', ylabel='count'>"
      ]
     },
     "execution_count": 46,
     "metadata": {},
     "output_type": "execute_result"
    },
    {
     "data": {
      "image/png": "[encoded data removed]",
      "text/plain": [
       "<Figure size 1440x720 with 1 Axes>"
      ]
     },
     "metadata": {
      "needs_background": "light"
     },
     "output_type": "display_data"
    }
   ],
   "source": [
    "plt.figure(figsize=(20,10))\n",
    "sns.countplot(x=df_2018.arrival_date, hue=df_2018.booking_status)"
   ]
  },
  {
   "cell_type": "code",
   "execution_count": 47,
   "id": "64361ed9",
   "metadata": {},
   "outputs": [
    {
     "data": {
      "text/plain": [
       "[<matplotlib.lines.Line2D at 0x227581bc610>]"
      ]
     },
     "execution_count": 47,
     "metadata": {},
     "output_type": "execute_result"
    },
    {
     "data": {
      "image/png": "[encoded data removed]",
      "text/plain": [
       "<Figure size 432x288 with 1 Axes>"
      ]
     },
     "metadata": {
      "needs_background": "light"
     },
     "output_type": "display_data"
    }
   ],
   "source": [
    "plt.plot(df_2018.booking_status.groupby(df_2018.arrival_date).count())"
   ]
  },
  {
   "cell_type": "code",
   "execution_count": 48,
   "id": "d476be4b",
   "metadata": {},
   "outputs": [],
   "source": [
    "# We see that similar pattern is followed for data in 2018 as for overall data"
   ]
  },
  {
   "cell_type": "code",
   "execution_count": 49,
   "id": "06c489aa",
   "metadata": {},
   "outputs": [],
   "source": [
    "continuous = ['no_of_adults','no_of_children','no_of_weekend_nights','no_of_week_nights','lead_time','arrival_month','arrival_date','no_of_previous_cancellations','no_of_previous_bookings_not_canceled','avg_price_per_room', 'no_of_special_requests']"
   ]
  },
  {
   "cell_type": "code",
   "execution_count": 50,
   "id": "53ff974b",
   "metadata": {},
   "outputs": [
    {
     "name": "stdout",
     "output_type": "stream",
     "text": [
      "no_of_adults:\n",
      "                  count      mean       std  min  25%  50%  75%  max\n",
      "booking_status                                                      \n",
      "Canceled        11885.0  1.909550  0.486243  0.0  2.0  2.0  2.0  4.0\n",
      "Not_Canceled    24390.0  1.813489  0.530993  0.0  2.0  2.0  2.0  4.0\n"
     ]
    },
    {
     "data": {
      "image/png": "[encoded data removed]",
      "text/plain": [
       "<Figure size 432x288 with 1 Axes>"
      ]
     },
     "metadata": {
      "needs_background": "light"
     },
     "output_type": "display_data"
    },
    {
     "data": {
      "image/png": "[encoded data removed]",
      "text/plain": [
       "<Figure size 432x288 with 1 Axes>"
      ]
     },
     "metadata": {
      "needs_background": "light"
     },
     "output_type": "display_data"
    },
    {
     "name": "stdout",
     "output_type": "stream",
     "text": [
      "no_of_adults  p-value  8.848338257094206e-62  Good Predictor. Avg of this feature is not same for both the groups\n",
      "-----------------------------------------------------------------------------------------------------\n",
      "no_of_children:\n",
      "                  count      mean       std  min  25%  50%  75%   max\n",
      "booking_status                                                       \n",
      "Canceled        11885.0  0.124358  0.440903  0.0  0.0  0.0  0.0   9.0\n",
      "Not_Canceled    24390.0  0.095982  0.382288  0.0  0.0  0.0  0.0  10.0\n"
     ]
    },
    {
     "data": {
      "image/png": "[encoded data removed]",
      "text/plain": [
       "<Figure size 432x288 with 1 Axes>"
      ]
     },
     "metadata": {
      "needs_background": "light"
     },
     "output_type": "display_data"
    },
    {
     "data": {
      "image/png": "[encoded data removed]",
      "text/plain": [
       "<Figure size 432x288 with 1 Axes>"
      ]
     },
     "metadata": {
      "needs_background": "light"
     },
     "output_type": "display_data"
    },
    {
     "name": "stdout",
     "output_type": "stream",
     "text": [
      "no_of_children  p-value  2.947637376831079e-10  Good Predictor. Avg of this feature is not same for both the groups\n",
      "-----------------------------------------------------------------------------------------------------\n",
      "no_of_weekend_nights:\n",
      "                  count      mean       std  min  25%  50%  75%  max\n",
      "booking_status                                                      \n",
      "Canceled        11885.0  0.887505  0.919267  0.0  0.0  1.0  2.0  7.0\n",
      "Not_Canceled    24390.0  0.773309  0.843428  0.0  0.0  1.0  1.0  6.0\n"
     ]
    },
    {
     "data": {
      "image/png": "[encoded data removed]",
      "text/plain": [
       "<Figure size 432x288 with 1 Axes>"
      ]
     },
     "metadata": {
      "needs_background": "light"
     },
     "output_type": "display_data"
    },
    {
     "data": {
      "image/png": "[encoded data removed]",
      "text/plain": [
       "<Figure size 432x288 with 1 Axes>"
      ]
     },
     "metadata": {
      "needs_background": "light"
     },
     "output_type": "display_data"
    },
    {
     "name": "stdout",
     "output_type": "stream",
     "text": [
      "no_of_weekend_nights  p-value  8.340701585971926e-32  Good Predictor. Avg of this feature is not same for both the groups\n",
      "-----------------------------------------------------------------------------------------------------\n",
      "no_of_week_nights:\n",
      "                  count      mean       std  min  25%  50%  75%   max\n",
      "booking_status                                                       \n",
      "Canceled        11885.0  2.392259  1.583088  0.0  1.0  2.0  3.0  17.0\n",
      "Not_Canceled    24390.0  2.112710  1.309173  0.0  1.0  2.0  3.0  17.0\n"
     ]
    },
    {
     "data": {
      "image/png": "[encoded data removed]",
      "text/plain": [
       "<Figure size 432x288 with 1 Axes>"
      ]
     },
     "metadata": {
      "needs_background": "light"
     },
     "output_type": "display_data"
    },
    {
     "data": {
      "image/png": "[encoded data removed]",
      "text/plain": [
       "<Figure size 432x288 with 1 Axes>"
      ]
     },
     "metadata": {
      "needs_background": "light"
     },
     "output_type": "display_data"
    },
    {
     "name": "stdout",
     "output_type": "stream",
     "text": [
      "no_of_week_nights  p-value  1.7272158751415455e-70  Good Predictor. Avg of this feature is not same for both the groups\n",
      "-----------------------------------------------------------------------------------------------------\n",
      "lead_time:\n",
      "                  count        mean        std  min   25%    50%    75%    max\n",
      "booking_status                                                                \n",
      "Canceled        11885.0  139.215482  98.947731  0.0  55.0  122.0  205.0  443.0\n",
      "Not_Canceled    24390.0   58.927224  64.028714  0.0  10.0   39.0   86.0  386.0\n"
     ]
    },
    {
     "data": {
      "image/png": "[encoded data removed]",
      "text/plain": [
       "<Figure size 432x288 with 1 Axes>"
      ]
     },
     "metadata": {
      "needs_background": "light"
     },
     "output_type": "display_data"
    },
    {
     "data": {
      "image/png": "[encoded data removed]",
      "text/plain": [
       "<Figure size 432x288 with 1 Axes>"
      ]
     },
     "metadata": {
      "needs_background": "light"
     },
     "output_type": "display_data"
    },
    {
     "name": "stdout",
     "output_type": "stream",
     "text": [
      "lead_time  p-value  0.0  Good Predictor. Avg of this feature is not same for both the groups\n",
      "-----------------------------------------------------------------------------------------------------\n",
      "arrival_month:\n",
      "                  count      mean       std  min  25%  50%   75%   max\n",
      "booking_status                                                        \n",
      "Canceled        11885.0  7.374253  2.655423  1.0  5.0  8.0  10.0  12.0\n",
      "Not_Canceled    24390.0  7.447724  3.252560  1.0  5.0  8.0  10.0  12.0\n"
     ]
    },
    {
     "data": {
      "image/png": "[encoded data removed]",
      "text/plain": [
       "<Figure size 432x288 with 1 Axes>"
      ]
     },
     "metadata": {
      "needs_background": "light"
     },
     "output_type": "display_data"
    },
    {
     "data": {
      "image/png": "[encoded data removed]",
      "text/plain": [
       "<Figure size 432x288 with 1 Axes>"
      ]
     },
     "metadata": {
      "needs_background": "light"
     },
     "output_type": "display_data"
    },
    {
     "name": "stdout",
     "output_type": "stream",
     "text": [
      "arrival_month  p-value  0.03239997582757596  Good Predictor. Avg of this feature is not same for both the groups\n",
      "-----------------------------------------------------------------------------------------------------\n",
      "arrival_date:\n",
      "                  count       mean       std  min  25%   50%   75%   max\n",
      "booking_status                                                          \n",
      "Canceled        11885.0  15.730080  8.783946  1.0  8.0  16.0  23.0  31.0\n",
      "Not_Canceled    24390.0  15.532144  8.718617  1.0  8.0  15.0  23.0  31.0\n"
     ]
    },
    {
     "data": {
      "image/png": "[encoded data removed]",
      "text/plain": [
       "<Figure size 432x288 with 1 Axes>"
      ]
     },
     "metadata": {
      "needs_background": "light"
     },
     "output_type": "display_data"
    },
    {
     "data": {
      "image/png": "[encoded data removed]",
      "text/plain": [
       "<Figure size 432x288 with 1 Axes>"
      ]
     },
     "metadata": {
      "needs_background": "light"
     },
     "output_type": "display_data"
    },
    {
     "name": "stdout",
     "output_type": "stream",
     "text": [
      "arrival_date  p-value  0.04292948340681466  Good Predictor. Avg of this feature is not same for both the groups\n",
      "-----------------------------------------------------------------------------------------------------\n",
      "no_of_previous_cancellations:\n",
      "                  count      mean       std  min  25%  50%  75%   max\n",
      "booking_status                                                       \n",
      "Canceled        11885.0  0.005553  0.241941  0.0  0.0  0.0  0.0  13.0\n",
      "Not_Canceled    24390.0  0.032021  0.415967  0.0  0.0  0.0  0.0  11.0\n"
     ]
    },
    {
     "data": {
      "image/png": "[encoded data removed]",
      "text/plain": [
       "<Figure size 432x288 with 1 Axes>"
      ]
     },
     "metadata": {
      "needs_background": "light"
     },
     "output_type": "display_data"
    },
    {
     "data": {
      "image/png": "[encoded data removed]",
      "text/plain": [
       "<Figure size 432x288 with 1 Axes>"
      ]
     },
     "metadata": {
      "needs_background": "light"
     },
     "output_type": "display_data"
    },
    {
     "name": "stdout",
     "output_type": "stream",
     "text": [
      "no_of_previous_cancellations  p-value  1.3152065000503417e-10  Good Predictor. Avg of this feature is not same for both the groups\n",
      "-----------------------------------------------------------------------------------------------------\n",
      "no_of_previous_bookings_not_canceled:\n",
      "                  count      mean       std  min  25%  50%  75%   max\n",
      "booking_status                                                       \n",
      "Canceled        11885.0  0.002188  0.129710  0.0  0.0  0.0  0.0  12.0\n",
      "Not_Canceled    24390.0  0.227101  2.133507  0.0  0.0  0.0  0.0  58.0\n"
     ]
    },
    {
     "data": {
      "image/png": "[encoded data removed]",
      "text/plain": [
       "<Figure size 432x288 with 1 Axes>"
      ]
     },
     "metadata": {
      "needs_background": "light"
     },
     "output_type": "display_data"
    },
    {
     "data": {
      "image/png": "[encoded data removed]",
      "text/plain": [
       "<Figure size 432x288 with 1 Axes>"
      ]
     },
     "metadata": {
      "needs_background": "light"
     },
     "output_type": "display_data"
    },
    {
     "name": "stdout",
     "output_type": "stream",
     "text": [
      "no_of_previous_bookings_not_canceled  p-value  1.8287364128686035e-30  Good Predictor. Avg of this feature is not same for both the groups\n",
      "-----------------------------------------------------------------------------------------------------\n",
      "avg_price_per_room:\n",
      "                  count        mean        std  min    25%    50%     75%  \\\n",
      "booking_status                                                              \n",
      "Canceled        11885.0  110.589966  32.264394  0.0  89.27  108.0  126.36   \n",
      "Not_Canceled    24390.0   99.931412  35.872154  0.0  77.86   95.0  119.10   \n",
      "\n",
      "                  max  \n",
      "booking_status         \n",
      "Canceled        540.0  \n",
      "Not_Canceled    375.5  \n"
     ]
    },
    {
     "data": {
      "image/png": "[encoded data removed]",
      "text/plain": [
       "<Figure size 432x288 with 1 Axes>"
      ]
     },
     "metadata": {
      "needs_background": "light"
     },
     "output_type": "display_data"
    },
    {
     "data": {
      "image/png": "[encoded data removed]",
      "text/plain": [
       "<Figure size 432x288 with 1 Axes>"
      ]
     },
     "metadata": {
      "needs_background": "light"
     },
     "output_type": "display_data"
    },
    {
     "name": "stdout",
     "output_type": "stream",
     "text": [
      "avg_price_per_room  p-value  5.2303189247998436e-164  Good Predictor. Avg of this feature is not same for both the groups\n",
      "-----------------------------------------------------------------------------------------------------\n",
      "no_of_special_requests:\n",
      "                  count      mean       std  min  25%  50%  75%  max\n",
      "booking_status                                                      \n",
      "Canceled        11885.0  0.334623  0.574345  0.0  0.0  0.0  1.0  2.0\n",
      "Not_Canceled    24390.0  0.758549  0.836532  0.0  0.0  1.0  1.0  5.0\n"
     ]
    },
    {
     "data": {
      "image/png": "[encoded data removed]",
      "text/plain": [
       "<Figure size 432x288 with 1 Axes>"
      ]
     },
     "metadata": {
      "needs_background": "light"
     },
     "output_type": "display_data"
    },
    {
     "data": {
      "image/png": "[encoded data removed]",
      "text/plain": [
       "<Figure size 432x288 with 1 Axes>"
      ]
     },
     "metadata": {
      "needs_background": "light"
     },
     "output_type": "display_data"
    },
    {
     "name": "stdout",
     "output_type": "stream",
     "text": [
      "no_of_special_requests  p-value  0.0  Good Predictor. Avg of this feature is not same for both the groups\n",
      "-----------------------------------------------------------------------------------------------------\n"
     ]
    }
   ],
   "source": [
    "for column in continuous:\n",
    "    print(column + ':')\n",
    "    print(df[column].groupby(df.booking_status).describe())\n",
    "    plt.figure()\n",
    "    sns.barplot(y=df[column], x=df.booking_status, ci=False)\n",
    "    plt.title(column)\n",
    "    plt.show()\n",
    "    plt.figure()\n",
    "    sns.boxplot(y =df[column], x=df['booking_status'])\n",
    "    plt.title(column)\n",
    "    plt.show()\n",
    "    model = ols('df[column]~booking_status', data=df).fit()\n",
    "    aov_table = sm.stats.anova_lm(model)\n",
    "    #print(aov_table)\n",
    "    p = aov_table['PR(>F)'][0]\n",
    "    if p>0.05:\n",
    "        print(column,\"\",\"p-value\",\"\",p,\" Bad Predictor. Avg of this feature is same for both the groups\")\n",
    "        print('-----------------------------------------------------------------------------------------------------')\n",
    "    else:\n",
    "        print(column,\"\",\"p-value\",\"\",p,\" Good Predictor. Avg of this feature is not same for both the groups\")\n",
    "        print('-----------------------------------------------------------------------------------------------------')"
   ]
  },
  {
   "cell_type": "code",
   "execution_count": 51,
   "id": "81ef54d7",
   "metadata": {},
   "outputs": [],
   "source": [
    "# cancellation of booking doesn't show much difference wrt no.adults\n",
    "# same pattern is follwed wrt to no.of children, but we see a slight tendency that more no. of children leads to more cancellation\n",
    "# we see a slight tendency that more no. of weekend nights leads to more cancellation\n",
    "# we see same pattern with more no. of week nights.\n",
    "# This means longer booking are more prone to get cancelled\n",
    "# Cancellation percentage is higher for people whose lead time is higher. This means people who are taking more time to book\n",
    "# have more chances to cancel\n",
    "# month and date of arrival is not affecting the cancellation percentage\n",
    "# People with higher number of previous cancelation have lesser chance of cancelation\n",
    "# People with high number of non-cancellation have very high percentage of non cancelation\n",
    "# Overall we can say chance of not cancelling booking is high\n",
    "# We don't see much difference in avg_price for cancelled and not cancelled group\n",
    "# People who make more special tend not to cancel booking"
   ]
  },
  {
   "cell_type": "code",
   "execution_count": 52,
   "id": "1f73add2",
   "metadata": {},
   "outputs": [],
   "source": [
    "df['booking_status'].replace(['Not_Canceled', 'Canceled'],[0,1], inplace=True)"
   ]
  },
  {
   "cell_type": "code",
   "execution_count": 53,
   "id": "22437065",
   "metadata": {},
   "outputs": [
    {
     "data": {
      "text/plain": [
       "0    24390\n",
       "1    11885\n",
       "Name: booking_status, dtype: int64"
      ]
     },
     "execution_count": 53,
     "metadata": {},
     "output_type": "execute_result"
    }
   ],
   "source": [
    "df.booking_status.value_counts()"
   ]
  },
  {
   "cell_type": "code",
   "execution_count": 54,
   "id": "4bca1919",
   "metadata": {},
   "outputs": [
    {
     "data": {
      "text/plain": [
       "Meal Plan 1     27835\n",
       "Not Selected     5130\n",
       "Meal Plan 2      3305\n",
       "Meal Plan 3         5\n",
       "Name: type_of_meal_plan, dtype: int64"
      ]
     },
     "execution_count": 54,
     "metadata": {},
     "output_type": "execute_result"
    }
   ],
   "source": [
    "df.type_of_meal_plan.value_counts()"
   ]
  },
  {
   "cell_type": "code",
   "execution_count": 55,
   "id": "c85f955b",
   "metadata": {},
   "outputs": [
    {
     "data": {
      "text/plain": [
       "0    35151\n",
       "1     1124\n",
       "Name: required_car_parking_space, dtype: int64"
      ]
     },
     "execution_count": 55,
     "metadata": {},
     "output_type": "execute_result"
    }
   ],
   "source": [
    "df.required_car_parking_space.value_counts()"
   ]
  },
  {
   "cell_type": "code",
   "execution_count": 56,
   "id": "69e4a99b",
   "metadata": {},
   "outputs": [
    {
     "data": {
      "text/plain": [
       "Room_Type 1    28130\n",
       "Room_Type 4     6057\n",
       "Room_Type 6      966\n",
       "Room_Type 2      692\n",
       "Room_Type 5      265\n",
       "Room_Type 7      158\n",
       "Room_Type 3        7\n",
       "Name: room_type_reserved, dtype: int64"
      ]
     },
     "execution_count": 56,
     "metadata": {},
     "output_type": "execute_result"
    }
   ],
   "source": [
    "df.room_type_reserved.value_counts()"
   ]
  },
  {
   "cell_type": "code",
   "execution_count": 57,
   "id": "357c2704",
   "metadata": {},
   "outputs": [
    {
     "data": {
      "text/plain": [
       "2018    29761\n",
       "2017     6514\n",
       "Name: arrival_year, dtype: int64"
      ]
     },
     "execution_count": 57,
     "metadata": {},
     "output_type": "execute_result"
    }
   ],
   "source": [
    "df.arrival_year.value_counts()"
   ]
  },
  {
   "cell_type": "code",
   "execution_count": 58,
   "id": "9998c621",
   "metadata": {},
   "outputs": [
    {
     "data": {
      "text/plain": [
       "Online           23214\n",
       "Offline          10528\n",
       "Corporate         2017\n",
       "Complementary      391\n",
       "Aviation           125\n",
       "Name: market_segment_type, dtype: int64"
      ]
     },
     "execution_count": 58,
     "metadata": {},
     "output_type": "execute_result"
    }
   ],
   "source": [
    "df.market_segment_type.value_counts()"
   ]
  },
  {
   "cell_type": "code",
   "execution_count": 59,
   "id": "3fa2f679",
   "metadata": {},
   "outputs": [
    {
     "data": {
      "text/plain": [
       "0    35345\n",
       "1      930\n",
       "Name: repeated_guest, dtype: int64"
      ]
     },
     "execution_count": 59,
     "metadata": {},
     "output_type": "execute_result"
    }
   ],
   "source": [
    "df.repeated_guest.value_counts()"
   ]
  },
  {
   "cell_type": "code",
   "execution_count": 60,
   "id": "bc32ab69",
   "metadata": {},
   "outputs": [],
   "source": [
    "categorical = ['type_of_meal_plan', 'required_car_parking_space', 'room_type_reserved', 'arrival_year', 'market_segment_type', 'repeated_guest']"
   ]
  },
  {
   "cell_type": "code",
   "execution_count": 61,
   "id": "7a779a3f",
   "metadata": {},
   "outputs": [],
   "source": [
    "df.type_of_meal_plan.replace(['Not Selected', 'Meal Plan 1', 'Meal Plan 2', 'Meal Plan 3'], [0,1,2,3], inplace=True)"
   ]
  },
  {
   "cell_type": "code",
   "execution_count": 62,
   "id": "a014bb54",
   "metadata": {},
   "outputs": [],
   "source": [
    "df.room_type_reserved.replace(['Room_Type 1', 'Room_Type 2', 'Room_Type 3', 'Room_Type 4', 'Room_Type 5', 'Room_Type 6', 'Room_Type 7'], [1,2,3,4,5,6,7], inplace=True)"
   ]
  },
  {
   "cell_type": "code",
   "execution_count": 63,
   "id": "382434df",
   "metadata": {},
   "outputs": [],
   "source": [
    "df.arrival_year.replace([2017,2018], [1,2], inplace=True)"
   ]
  },
  {
   "cell_type": "code",
   "execution_count": 64,
   "id": "f9e75510",
   "metadata": {},
   "outputs": [],
   "source": [
    "df.market_segment_type.replace(['Online', 'Offline', 'Corporate', 'Complementary', 'Aviation'],[1,2,3,4,5], inplace=True)"
   ]
  },
  {
   "cell_type": "code",
   "execution_count": 65,
   "id": "c0f5fb4b",
   "metadata": {},
   "outputs": [],
   "source": [
    "# for column in categorical:\n",
    "#     plt.figure(figsize=(20,7))\n",
    "#     sns.countplot(x = df.booking_status, hue= df[column])\n",
    "#     plt.legend(loc='best')\n",
    "#     plt.show()\n",
    "#     crstab = pd.crosstab(df['booking_status'],df[column])\n",
    "#     (stats, p, df,_) = chi2_contingency([crstab.iloc[0].values, crstab.iloc[1].values], correction=False)\n",
    "#     if p>0.05:\n",
    "#         print(column,\"\",\"p-value\",\"\",p,\" Bad Predictor. There is no significant relationship between the variables\")\n",
    "#     else:\n",
    "#         print(column,\"\",\"p-value\",\"\",p,\" Good Predictor. There is significant relationship between the variables\")"
   ]
  },
  {
   "cell_type": "code",
   "execution_count": 66,
   "id": "83d1f098",
   "metadata": {},
   "outputs": [
    {
     "data": {
      "text/plain": [
       "<AxesSubplot:xlabel='booking_status', ylabel='count'>"
      ]
     },
     "execution_count": 66,
     "metadata": {},
     "output_type": "execute_result"
    },
    {
     "data": {
      "image/png": "[encoded data removed]",
      "text/plain": [
       "<Figure size 432x288 with 1 Axes>"
      ]
     },
     "metadata": {
      "needs_background": "light"
     },
     "output_type": "display_data"
    }
   ],
   "source": [
    "sns.countplot(x = df.booking_status, hue= df['type_of_meal_plan'])"
   ]
  },
  {
   "cell_type": "code",
   "execution_count": 67,
   "id": "a61d544b",
   "metadata": {},
   "outputs": [],
   "source": [
    "# Meal Type 1 is preferred by most of the guests followed by no meal, similar pattern is seen for both groups"
   ]
  },
  {
   "cell_type": "code",
   "execution_count": 68,
   "id": "629829ad",
   "metadata": {},
   "outputs": [],
   "source": [
    "crstab_meal = pd.crosstab(df['booking_status'],df['type_of_meal_plan'])"
   ]
  },
  {
   "cell_type": "code",
   "execution_count": 69,
   "id": "881752d1",
   "metadata": {},
   "outputs": [
    {
     "data": {
      "text/html": [
       "<div>\n",
       "<style scoped>\n",
       "    .dataframe tbody tr th:only-of-type {\n",
       "        vertical-align: middle;\n",
       "    }\n",
       "\n",
       "    .dataframe tbody tr th {\n",
       "        vertical-align: top;\n",
       "    }\n",
       "\n",
       "    .dataframe thead th {\n",
       "        text-align: right;\n",
       "    }\n",
       "</style>\n",
       "<table border=\"1\" class=\"dataframe\">\n",
       "  <thead>\n",
       "    <tr style=\"text-align: right;\">\n",
       "      <th>type_of_meal_plan</th>\n",
       "      <th>0</th>\n",
       "      <th>1</th>\n",
       "      <th>2</th>\n",
       "      <th>3</th>\n",
       "    </tr>\n",
       "    <tr>\n",
       "      <th>booking_status</th>\n",
       "      <th></th>\n",
       "      <th></th>\n",
       "      <th></th>\n",
       "      <th></th>\n",
       "    </tr>\n",
       "  </thead>\n",
       "  <tbody>\n",
       "    <tr>\n",
       "      <th>0</th>\n",
       "      <td>3431</td>\n",
       "      <td>19156</td>\n",
       "      <td>1799</td>\n",
       "      <td>4</td>\n",
       "    </tr>\n",
       "    <tr>\n",
       "      <th>1</th>\n",
       "      <td>1699</td>\n",
       "      <td>8679</td>\n",
       "      <td>1506</td>\n",
       "      <td>1</td>\n",
       "    </tr>\n",
       "  </tbody>\n",
       "</table>\n",
       "</div>"
      ],
      "text/plain": [
       "type_of_meal_plan     0      1     2  3\n",
       "booking_status                         \n",
       "0                  3431  19156  1799  4\n",
       "1                  1699   8679  1506  1"
      ]
     },
     "execution_count": 69,
     "metadata": {},
     "output_type": "execute_result"
    }
   ],
   "source": [
    "crstab_meal"
   ]
  },
  {
   "cell_type": "code",
   "execution_count": 70,
   "id": "eeb841df",
   "metadata": {},
   "outputs": [],
   "source": [
    "# Cancellation rate of guest who select meal type 2 is very high"
   ]
  },
  {
   "cell_type": "code",
   "execution_count": 71,
   "id": "73ccc6c8",
   "metadata": {},
   "outputs": [],
   "source": [
    "array_meal = np.array(crstab_meal)"
   ]
  },
  {
   "cell_type": "code",
   "execution_count": 72,
   "id": "3edce534",
   "metadata": {},
   "outputs": [
    {
     "data": {
      "text/plain": [
       "(278.29490920586017,\n",
       " 4.951915406087789e-60,\n",
       " 3,\n",
       " array([[3.44922674e+03, 1.87152488e+04, 2.22216265e+03, 3.36181943e+00],\n",
       "        [1.68077326e+03, 9.11975121e+03, 1.08283735e+03, 1.63818057e+00]]))"
      ]
     },
     "execution_count": 72,
     "metadata": {},
     "output_type": "execute_result"
    }
   ],
   "source": [
    "chi2_contingency(array_meal, correction=False)"
   ]
  },
  {
   "cell_type": "code",
   "execution_count": 73,
   "id": "a5fa59d1",
   "metadata": {},
   "outputs": [],
   "source": [
    "# Second value is p-value\n",
    "# if p>0.05:\n",
    "#     print(column,\"\",\"p-value\",\"\",p,\" Bad Predictor. There is no significant relationship between the variables\")\n",
    "# else:\n",
    "#     print(column,\"\",\"p-value\",\"\",p,\" Good Predictor. There is significant relationship between the variables\")"
   ]
  },
  {
   "cell_type": "code",
   "execution_count": 74,
   "id": "742cc6ea",
   "metadata": {},
   "outputs": [],
   "source": [
    "# Good Predictor. There is significant relationship between the variables\""
   ]
  },
  {
   "cell_type": "code",
   "execution_count": 75,
   "id": "a4faf42d",
   "metadata": {},
   "outputs": [
    {
     "data": {
      "text/plain": [
       "<AxesSubplot:xlabel='booking_status', ylabel='count'>"
      ]
     },
     "execution_count": 75,
     "metadata": {},
     "output_type": "execute_result"
    },
    {
     "data": {
      "image/png": "[encoded data removed]",
      "text/plain": [
       "<Figure size 432x288 with 1 Axes>"
      ]
     },
     "metadata": {
      "needs_background": "light"
     },
     "output_type": "display_data"
    }
   ],
   "source": [
    "sns.countplot(x = df.booking_status, hue= df['required_car_parking_space'])"
   ]
  },
  {
   "cell_type": "code",
   "execution_count": 76,
   "id": "b4714637",
   "metadata": {},
   "outputs": [],
   "source": [
    "# We can availability of parking is not a mojor factor for cancelling the booking"
   ]
  },
  {
   "cell_type": "code",
   "execution_count": 77,
   "id": "2cc558a1",
   "metadata": {},
   "outputs": [],
   "source": [
    "crstab_parking = pd.crosstab(df['booking_status'],df['required_car_parking_space'])"
   ]
  },
  {
   "cell_type": "code",
   "execution_count": 78,
   "id": "e386b383",
   "metadata": {},
   "outputs": [
    {
     "data": {
      "text/html": [
       "<div>\n",
       "<style scoped>\n",
       "    .dataframe tbody tr th:only-of-type {\n",
       "        vertical-align: middle;\n",
       "    }\n",
       "\n",
       "    .dataframe tbody tr th {\n",
       "        vertical-align: top;\n",
       "    }\n",
       "\n",
       "    .dataframe thead th {\n",
       "        text-align: right;\n",
       "    }\n",
       "</style>\n",
       "<table border=\"1\" class=\"dataframe\">\n",
       "  <thead>\n",
       "    <tr style=\"text-align: right;\">\n",
       "      <th>required_car_parking_space</th>\n",
       "      <th>0</th>\n",
       "      <th>1</th>\n",
       "    </tr>\n",
       "    <tr>\n",
       "      <th>booking_status</th>\n",
       "      <th></th>\n",
       "      <th></th>\n",
       "    </tr>\n",
       "  </thead>\n",
       "  <tbody>\n",
       "    <tr>\n",
       "      <th>0</th>\n",
       "      <td>23380</td>\n",
       "      <td>1010</td>\n",
       "    </tr>\n",
       "    <tr>\n",
       "      <th>1</th>\n",
       "      <td>11771</td>\n",
       "      <td>114</td>\n",
       "    </tr>\n",
       "  </tbody>\n",
       "</table>\n",
       "</div>"
      ],
      "text/plain": [
       "required_car_parking_space      0     1\n",
       "booking_status                         \n",
       "0                           23380  1010\n",
       "1                           11771   114"
      ]
     },
     "execution_count": 78,
     "metadata": {},
     "output_type": "execute_result"
    }
   ],
   "source": [
    "crstab_parking"
   ]
  },
  {
   "cell_type": "code",
   "execution_count": 79,
   "id": "a1e0db6a",
   "metadata": {},
   "outputs": [],
   "source": [
    "# People requireing car parking are cancelling less, though the number of people looking for this feature is very less"
   ]
  },
  {
   "cell_type": "code",
   "execution_count": 80,
   "id": "c45d52ba",
   "metadata": {},
   "outputs": [],
   "source": [
    "array_parking = np.array(crstab_parking)"
   ]
  },
  {
   "cell_type": "code",
   "execution_count": 81,
   "id": "4239d574",
   "metadata": {},
   "outputs": [
    {
     "data": {
      "text/plain": [
       "(269.44714368539746,\n",
       " 1.4976223934666923e-60,\n",
       " 1,\n",
       " array([[23634.26299104,   755.73700896],\n",
       "        [11516.73700896,   368.26299104]]))"
      ]
     },
     "execution_count": 81,
     "metadata": {},
     "output_type": "execute_result"
    }
   ],
   "source": [
    "chi2_contingency(array_parking, correction=False)"
   ]
  },
  {
   "cell_type": "code",
   "execution_count": 82,
   "id": "995c2687",
   "metadata": {},
   "outputs": [],
   "source": [
    "# Second value is p-value\n",
    "# if p>0.05:\n",
    "#     print(column,\"\",\"p-value\",\"\",p,\" Bad Predictor. There is no significant relationship between the variables\")\n",
    "# else:\n",
    "#     print(column,\"\",\"p-value\",\"\",p,\" Good Predictor. There is significant relationship between the variables\")"
   ]
  },
  {
   "cell_type": "code",
   "execution_count": 83,
   "id": "61629bbf",
   "metadata": {},
   "outputs": [],
   "source": [
    "# Good Predictor. There is significant relationship between the variables\""
   ]
  },
  {
   "cell_type": "code",
   "execution_count": 84,
   "id": "c09edb05",
   "metadata": {},
   "outputs": [
    {
     "data": {
      "text/plain": [
       "<AxesSubplot:xlabel='booking_status', ylabel='count'>"
      ]
     },
     "execution_count": 84,
     "metadata": {},
     "output_type": "execute_result"
    },
    {
     "data": {
      "image/png": "[encoded data removed]",
      "text/plain": [
       "<Figure size 720x360 with 1 Axes>"
      ]
     },
     "metadata": {
      "needs_background": "light"
     },
     "output_type": "display_data"
    }
   ],
   "source": [
    "plt.figure(figsize = (10,5))\n",
    "sns.countplot(x = df.booking_status, hue= df['room_type_reserved'])"
   ]
  },
  {
   "cell_type": "code",
   "execution_count": 85,
   "id": "67e4a5d5",
   "metadata": {},
   "outputs": [],
   "source": [
    "# Similar pattern is followed by both the groups"
   ]
  },
  {
   "cell_type": "code",
   "execution_count": 86,
   "id": "d3a25410",
   "metadata": {},
   "outputs": [],
   "source": [
    "crstab_room = pd.crosstab(df['booking_status'],df['room_type_reserved'])"
   ]
  },
  {
   "cell_type": "code",
   "execution_count": 87,
   "id": "2e042e46",
   "metadata": {},
   "outputs": [
    {
     "data": {
      "text/html": [
       "<div>\n",
       "<style scoped>\n",
       "    .dataframe tbody tr th:only-of-type {\n",
       "        vertical-align: middle;\n",
       "    }\n",
       "\n",
       "    .dataframe tbody tr th {\n",
       "        vertical-align: top;\n",
       "    }\n",
       "\n",
       "    .dataframe thead th {\n",
       "        text-align: right;\n",
       "    }\n",
       "</style>\n",
       "<table border=\"1\" class=\"dataframe\">\n",
       "  <thead>\n",
       "    <tr style=\"text-align: right;\">\n",
       "      <th>room_type_reserved</th>\n",
       "      <th>1</th>\n",
       "      <th>2</th>\n",
       "      <th>3</th>\n",
       "      <th>4</th>\n",
       "      <th>5</th>\n",
       "      <th>6</th>\n",
       "      <th>7</th>\n",
       "    </tr>\n",
       "    <tr>\n",
       "      <th>booking_status</th>\n",
       "      <th></th>\n",
       "      <th></th>\n",
       "      <th></th>\n",
       "      <th></th>\n",
       "      <th></th>\n",
       "      <th></th>\n",
       "      <th></th>\n",
       "    </tr>\n",
       "  </thead>\n",
       "  <tbody>\n",
       "    <tr>\n",
       "      <th>0</th>\n",
       "      <td>19058</td>\n",
       "      <td>464</td>\n",
       "      <td>5</td>\n",
       "      <td>3988</td>\n",
       "      <td>193</td>\n",
       "      <td>560</td>\n",
       "      <td>122</td>\n",
       "    </tr>\n",
       "    <tr>\n",
       "      <th>1</th>\n",
       "      <td>9072</td>\n",
       "      <td>228</td>\n",
       "      <td>2</td>\n",
       "      <td>2069</td>\n",
       "      <td>72</td>\n",
       "      <td>406</td>\n",
       "      <td>36</td>\n",
       "    </tr>\n",
       "  </tbody>\n",
       "</table>\n",
       "</div>"
      ],
      "text/plain": [
       "room_type_reserved      1    2  3     4    5    6    7\n",
       "booking_status                                        \n",
       "0                   19058  464  5  3988  193  560  122\n",
       "1                    9072  228  2  2069   72  406   36"
      ]
     },
     "execution_count": 87,
     "metadata": {},
     "output_type": "execute_result"
    }
   ],
   "source": [
    "crstab_room"
   ]
  },
  {
   "cell_type": "code",
   "execution_count": 88,
   "id": "0607b469",
   "metadata": {},
   "outputs": [],
   "source": [
    "# Room type four and six cancellation rate is very high"
   ]
  },
  {
   "cell_type": "code",
   "execution_count": 89,
   "id": "33d5f41f",
   "metadata": {},
   "outputs": [],
   "source": [
    "array_room = np.array(crstab_parking)"
   ]
  },
  {
   "cell_type": "code",
   "execution_count": 90,
   "id": "2528aa15",
   "metadata": {},
   "outputs": [
    {
     "data": {
      "text/plain": [
       "(269.44714368539746,\n",
       " 1.4976223934666923e-60,\n",
       " 1,\n",
       " array([[23634.26299104,   755.73700896],\n",
       "        [11516.73700896,   368.26299104]]))"
      ]
     },
     "execution_count": 90,
     "metadata": {},
     "output_type": "execute_result"
    }
   ],
   "source": [
    "chi2_contingency(array_room, correction=False)"
   ]
  },
  {
   "cell_type": "code",
   "execution_count": 91,
   "id": "cb28947a",
   "metadata": {},
   "outputs": [],
   "source": [
    "# Second value is p-value\n",
    "# if p>0.05:\n",
    "#     print(column,\"\",\"p-value\",\"\",p,\" Bad Predictor. There is no significant relationship between the variables\")\n",
    "# else:\n",
    "#     print(column,\"\",\"p-value\",\"\",p,\" Good Predictor. There is significant relationship between the variables\")"
   ]
  },
  {
   "cell_type": "code",
   "execution_count": 92,
   "id": "f9c60cc8",
   "metadata": {},
   "outputs": [],
   "source": [
    "# Good Predictor. There is significant relationship between the variables\""
   ]
  },
  {
   "cell_type": "code",
   "execution_count": 93,
   "id": "ec205bba",
   "metadata": {},
   "outputs": [
    {
     "data": {
      "text/plain": [
       "<AxesSubplot:xlabel='arrival_year', ylabel='count'>"
      ]
     },
     "execution_count": 93,
     "metadata": {},
     "output_type": "execute_result"
    },
    {
     "data": {
      "image/png": "[encoded data removed]",
      "text/plain": [
       "<Figure size 720x360 with 1 Axes>"
      ]
     },
     "metadata": {
      "needs_background": "light"
     },
     "output_type": "display_data"
    }
   ],
   "source": [
    "plt.figure(figsize = (10,5))\n",
    "sns.countplot(hue = df.booking_status, x= df['arrival_year'])"
   ]
  },
  {
   "cell_type": "code",
   "execution_count": 94,
   "id": "1b38134c",
   "metadata": {},
   "outputs": [],
   "source": [
    "# Contribution to cancellation in 2017 is less compared to 2018, percentage of non cancellation is more significantly more in 2017"
   ]
  },
  {
   "cell_type": "code",
   "execution_count": 95,
   "id": "04850169",
   "metadata": {},
   "outputs": [],
   "source": [
    "crstab_year = pd.crosstab(df['arrival_year'],df['booking_status'])"
   ]
  },
  {
   "cell_type": "code",
   "execution_count": 96,
   "id": "2b026000",
   "metadata": {},
   "outputs": [
    {
     "data": {
      "text/html": [
       "<div>\n",
       "<style scoped>\n",
       "    .dataframe tbody tr th:only-of-type {\n",
       "        vertical-align: middle;\n",
       "    }\n",
       "\n",
       "    .dataframe tbody tr th {\n",
       "        vertical-align: top;\n",
       "    }\n",
       "\n",
       "    .dataframe thead th {\n",
       "        text-align: right;\n",
       "    }\n",
       "</style>\n",
       "<table border=\"1\" class=\"dataframe\">\n",
       "  <thead>\n",
       "    <tr style=\"text-align: right;\">\n",
       "      <th>booking_status</th>\n",
       "      <th>0</th>\n",
       "      <th>1</th>\n",
       "    </tr>\n",
       "    <tr>\n",
       "      <th>arrival_year</th>\n",
       "      <th></th>\n",
       "      <th></th>\n",
       "    </tr>\n",
       "  </thead>\n",
       "  <tbody>\n",
       "    <tr>\n",
       "      <th>1</th>\n",
       "      <td>5553</td>\n",
       "      <td>961</td>\n",
       "    </tr>\n",
       "    <tr>\n",
       "      <th>2</th>\n",
       "      <td>18837</td>\n",
       "      <td>10924</td>\n",
       "    </tr>\n",
       "  </tbody>\n",
       "</table>\n",
       "</div>"
      ],
      "text/plain": [
       "booking_status      0      1\n",
       "arrival_year                \n",
       "1                5553    961\n",
       "2               18837  10924"
      ]
     },
     "execution_count": 96,
     "metadata": {},
     "output_type": "execute_result"
    }
   ],
   "source": [
    "crstab_year"
   ]
  },
  {
   "cell_type": "code",
   "execution_count": 97,
   "id": "5e557f4a",
   "metadata": {},
   "outputs": [],
   "source": [
    "# Cancellation in 2017 is just 961"
   ]
  },
  {
   "cell_type": "code",
   "execution_count": 98,
   "id": "c0399045",
   "metadata": {},
   "outputs": [],
   "source": [
    "array_year = np.array(crstab_year)"
   ]
  },
  {
   "cell_type": "code",
   "execution_count": 99,
   "id": "d7cb6a84",
   "metadata": {},
   "outputs": [
    {
     "data": {
      "text/plain": [
       "(1169.1658803091104,\n",
       " 3.065393311071663e-256,\n",
       " 1,\n",
       " array([[ 4379.77835975,  2134.22164025],\n",
       "        [20010.22164025,  9750.77835975]]))"
      ]
     },
     "execution_count": 99,
     "metadata": {},
     "output_type": "execute_result"
    }
   ],
   "source": [
    "chi2_contingency(array_year, correction=False)"
   ]
  },
  {
   "cell_type": "code",
   "execution_count": 100,
   "id": "e538cc0b",
   "metadata": {},
   "outputs": [],
   "source": [
    "# Second value is p-value\n",
    "# if p>0.05:\n",
    "#     print(column,\"\",\"p-value\",\"\",p,\" Bad Predictor. There is no significant relationship between the variables\")\n",
    "# else:\n",
    "#     print(column,\"\",\"p-value\",\"\",p,\" Good Predictor. There is significant relationship between the variables\")"
   ]
  },
  {
   "cell_type": "code",
   "execution_count": 101,
   "id": "1006286f",
   "metadata": {},
   "outputs": [],
   "source": [
    "# Good Predictor. There is significant relationship between the variables\""
   ]
  },
  {
   "cell_type": "code",
   "execution_count": 102,
   "id": "1e574b96",
   "metadata": {},
   "outputs": [
    {
     "data": {
      "text/plain": [
       "<matplotlib.legend.Legend at 0x227590494c0>"
      ]
     },
     "execution_count": 102,
     "metadata": {},
     "output_type": "execute_result"
    },
    {
     "data": {
      "image/png": "[encoded data removed]",
      "text/plain": [
       "<Figure size 720x360 with 1 Axes>"
      ]
     },
     "metadata": {
      "needs_background": "light"
     },
     "output_type": "display_data"
    }
   ],
   "source": [
    "plt.figure(figsize = (10,5))\n",
    "sns.countplot(x = df.booking_status, hue= df['market_segment_type'])\n",
    "plt.legend(loc= 'best')"
   ]
  },
  {
   "cell_type": "code",
   "execution_count": 103,
   "id": "92ef8c76",
   "metadata": {},
   "outputs": [],
   "source": [
    "# Similar pattern is seen between both the groups"
   ]
  },
  {
   "cell_type": "code",
   "execution_count": 104,
   "id": "500e1cd5",
   "metadata": {},
   "outputs": [],
   "source": [
    "crstab_market = pd.crosstab(df['booking_status'],df['market_segment_type'])"
   ]
  },
  {
   "cell_type": "code",
   "execution_count": 105,
   "id": "05c0fe5b",
   "metadata": {},
   "outputs": [
    {
     "data": {
      "text/html": [
       "<div>\n",
       "<style scoped>\n",
       "    .dataframe tbody tr th:only-of-type {\n",
       "        vertical-align: middle;\n",
       "    }\n",
       "\n",
       "    .dataframe tbody tr th {\n",
       "        vertical-align: top;\n",
       "    }\n",
       "\n",
       "    .dataframe thead th {\n",
       "        text-align: right;\n",
       "    }\n",
       "</style>\n",
       "<table border=\"1\" class=\"dataframe\">\n",
       "  <thead>\n",
       "    <tr style=\"text-align: right;\">\n",
       "      <th>market_segment_type</th>\n",
       "      <th>1</th>\n",
       "      <th>2</th>\n",
       "      <th>3</th>\n",
       "      <th>4</th>\n",
       "      <th>5</th>\n",
       "    </tr>\n",
       "    <tr>\n",
       "      <th>booking_status</th>\n",
       "      <th></th>\n",
       "      <th></th>\n",
       "      <th></th>\n",
       "      <th></th>\n",
       "      <th></th>\n",
       "    </tr>\n",
       "  </thead>\n",
       "  <tbody>\n",
       "    <tr>\n",
       "      <th>0</th>\n",
       "      <td>14739</td>\n",
       "      <td>7375</td>\n",
       "      <td>1797</td>\n",
       "      <td>391</td>\n",
       "      <td>88</td>\n",
       "    </tr>\n",
       "    <tr>\n",
       "      <th>1</th>\n",
       "      <td>8475</td>\n",
       "      <td>3153</td>\n",
       "      <td>220</td>\n",
       "      <td>0</td>\n",
       "      <td>37</td>\n",
       "    </tr>\n",
       "  </tbody>\n",
       "</table>\n",
       "</div>"
      ],
      "text/plain": [
       "market_segment_type      1     2     3    4   5\n",
       "booking_status                                 \n",
       "0                    14739  7375  1797  391  88\n",
       "1                     8475  3153   220    0  37"
      ]
     },
     "execution_count": 105,
     "metadata": {},
     "output_type": "execute_result"
    }
   ],
   "source": [
    "crstab_market"
   ]
  },
  {
   "cell_type": "code",
   "execution_count": 106,
   "id": "e7354d0e",
   "metadata": {},
   "outputs": [],
   "source": [
    "# Cancellation from Complementory is 0, corporation cancellation is also less"
   ]
  },
  {
   "cell_type": "code",
   "execution_count": 107,
   "id": "35f41a42",
   "metadata": {},
   "outputs": [],
   "source": [
    "array_market = np.array(crstab_market)"
   ]
  },
  {
   "cell_type": "code",
   "execution_count": 108,
   "id": "34dac5fc",
   "metadata": {},
   "outputs": [
    {
     "data": {
      "text/plain": [
       "(814.108865240557,\n",
       " 6.748763024557236e-175,\n",
       " 4,\n",
       " array([[15608.25527223,  7078.64700207,  1356.15796003,   262.89427981,\n",
       "            84.04548587],\n",
       "        [ 7605.74472777,  3449.35299793,   660.84203997,   128.10572019,\n",
       "            40.95451413]]))"
      ]
     },
     "execution_count": 108,
     "metadata": {},
     "output_type": "execute_result"
    }
   ],
   "source": [
    "chi2_contingency(array_market, correction=False)"
   ]
  },
  {
   "cell_type": "code",
   "execution_count": 109,
   "id": "36cd68da",
   "metadata": {},
   "outputs": [],
   "source": [
    "# Second value is p-value\n",
    "# if p>0.05:\n",
    "#     print(column,\"\",\"p-value\",\"\",p,\" Bad Predictor. There is no significant relationship between the variables\")\n",
    "# else:\n",
    "#     print(column,\"\",\"p-value\",\"\",p,\" Good Predictor. There is significant relationship between the variables\")"
   ]
  },
  {
   "cell_type": "code",
   "execution_count": 110,
   "id": "03619038",
   "metadata": {},
   "outputs": [],
   "source": [
    "# Good Predictor. There is significant relationship between the variables\""
   ]
  },
  {
   "cell_type": "code",
   "execution_count": 111,
   "id": "6cb52e7c",
   "metadata": {},
   "outputs": [
    {
     "data": {
      "text/plain": [
       "<AxesSubplot:xlabel='repeated_guest', ylabel='count'>"
      ]
     },
     "execution_count": 111,
     "metadata": {},
     "output_type": "execute_result"
    },
    {
     "data": {
      "image/png": "[encoded data removed]",
      "text/plain": [
       "<Figure size 720x360 with 1 Axes>"
      ]
     },
     "metadata": {
      "needs_background": "light"
     },
     "output_type": "display_data"
    }
   ],
   "source": [
    "plt.figure(figsize = (10,5))\n",
    "sns.countplot(hue = df.booking_status, x= df['repeated_guest'])"
   ]
  },
  {
   "cell_type": "code",
   "execution_count": 112,
   "id": "73124441",
   "metadata": {},
   "outputs": [],
   "source": [
    "crstab_repeat = pd.crosstab(df['repeated_guest'], df['booking_status'])"
   ]
  },
  {
   "cell_type": "code",
   "execution_count": 113,
   "id": "207ab892",
   "metadata": {},
   "outputs": [
    {
     "data": {
      "text/html": [
       "<div>\n",
       "<style scoped>\n",
       "    .dataframe tbody tr th:only-of-type {\n",
       "        vertical-align: middle;\n",
       "    }\n",
       "\n",
       "    .dataframe tbody tr th {\n",
       "        vertical-align: top;\n",
       "    }\n",
       "\n",
       "    .dataframe thead th {\n",
       "        text-align: right;\n",
       "    }\n",
       "</style>\n",
       "<table border=\"1\" class=\"dataframe\">\n",
       "  <thead>\n",
       "    <tr style=\"text-align: right;\">\n",
       "      <th>booking_status</th>\n",
       "      <th>0</th>\n",
       "      <th>1</th>\n",
       "    </tr>\n",
       "    <tr>\n",
       "      <th>repeated_guest</th>\n",
       "      <th></th>\n",
       "      <th></th>\n",
       "    </tr>\n",
       "  </thead>\n",
       "  <tbody>\n",
       "    <tr>\n",
       "      <th>0</th>\n",
       "      <td>23476</td>\n",
       "      <td>11869</td>\n",
       "    </tr>\n",
       "    <tr>\n",
       "      <th>1</th>\n",
       "      <td>914</td>\n",
       "      <td>16</td>\n",
       "    </tr>\n",
       "  </tbody>\n",
       "</table>\n",
       "</div>"
      ],
      "text/plain": [
       "booking_status      0      1\n",
       "repeated_guest              \n",
       "0               23476  11869\n",
       "1                 914     16"
      ]
     },
     "execution_count": 113,
     "metadata": {},
     "output_type": "execute_result"
    }
   ],
   "source": [
    "crstab_repeat"
   ]
  },
  {
   "cell_type": "code",
   "execution_count": 114,
   "id": "c5d686d4",
   "metadata": {},
   "outputs": [],
   "source": [
    "# Count of reapeat customer cancelling is very less"
   ]
  },
  {
   "cell_type": "code",
   "execution_count": 115,
   "id": "95158988",
   "metadata": {},
   "outputs": [],
   "source": [
    "array_repeat = np.array(crstab_repeat)"
   ]
  },
  {
   "cell_type": "code",
   "execution_count": 116,
   "id": "b4ad5239",
   "metadata": {},
   "outputs": [
    {
     "data": {
      "text/plain": [
       "(417.54056942785394,\n",
       " 8.370937808836797e-93,\n",
       " 1,\n",
       " array([[23764.70158511, 11580.29841489],\n",
       "        [  625.29841489,   304.70158511]]))"
      ]
     },
     "execution_count": 116,
     "metadata": {},
     "output_type": "execute_result"
    }
   ],
   "source": [
    "chi2_contingency(array_repeat, correction=False)"
   ]
  },
  {
   "cell_type": "code",
   "execution_count": 117,
   "id": "8548c865",
   "metadata": {},
   "outputs": [],
   "source": [
    "# Second value is p-value\n",
    "# if p>0.05:\n",
    "#     print(column,\"\",\"p-value\",\"\",p,\" Bad Predictor. There is no significant relationship between the variables\")\n",
    "# else:\n",
    "#     print(column,\"\",\"p-value\",\"\",p,\" Good Predictor. There is significant relationship between the variables\")"
   ]
  },
  {
   "cell_type": "code",
   "execution_count": 118,
   "id": "520b8080",
   "metadata": {},
   "outputs": [],
   "source": [
    "# Good Predictor. There is significant relationship between the variables\""
   ]
  },
  {
   "cell_type": "code",
   "execution_count": 119,
   "id": "83e0b5b5",
   "metadata": {},
   "outputs": [
    {
     "data": {
      "text/html": [
       "<div>\n",
       "<style scoped>\n",
       "    .dataframe tbody tr th:only-of-type {\n",
       "        vertical-align: middle;\n",
       "    }\n",
       "\n",
       "    .dataframe tbody tr th {\n",
       "        vertical-align: top;\n",
       "    }\n",
       "\n",
       "    .dataframe thead th {\n",
       "        text-align: right;\n",
       "    }\n",
       "</style>\n",
       "<table border=\"1\" class=\"dataframe\">\n",
       "  <thead>\n",
       "    <tr style=\"text-align: right;\">\n",
       "      <th></th>\n",
       "      <th>features</th>\n",
       "      <th>VIF</th>\n",
       "    </tr>\n",
       "  </thead>\n",
       "  <tbody>\n",
       "    <tr>\n",
       "      <th>0</th>\n",
       "      <td>no_of_adults</td>\n",
       "      <td>12.649706</td>\n",
       "    </tr>\n",
       "    <tr>\n",
       "      <th>1</th>\n",
       "      <td>no_of_children</td>\n",
       "      <td>1.234657</td>\n",
       "    </tr>\n",
       "    <tr>\n",
       "      <th>2</th>\n",
       "      <td>no_of_weekend_nights</td>\n",
       "      <td>1.940889</td>\n",
       "    </tr>\n",
       "    <tr>\n",
       "      <th>3</th>\n",
       "      <td>no_of_week_nights</td>\n",
       "      <td>3.522081</td>\n",
       "    </tr>\n",
       "    <tr>\n",
       "      <th>4</th>\n",
       "      <td>lead_time</td>\n",
       "      <td>2.140591</td>\n",
       "    </tr>\n",
       "    <tr>\n",
       "      <th>5</th>\n",
       "      <td>arrival_month</td>\n",
       "      <td>5.883727</td>\n",
       "    </tr>\n",
       "    <tr>\n",
       "      <th>6</th>\n",
       "      <td>arrival_date</td>\n",
       "      <td>3.733646</td>\n",
       "    </tr>\n",
       "    <tr>\n",
       "      <th>7</th>\n",
       "      <td>no_of_previous_cancellations</td>\n",
       "      <td>1.287965</td>\n",
       "    </tr>\n",
       "    <tr>\n",
       "      <th>8</th>\n",
       "      <td>no_of_previous_bookings_not_canceled</td>\n",
       "      <td>1.304029</td>\n",
       "    </tr>\n",
       "    <tr>\n",
       "      <th>9</th>\n",
       "      <td>avg_price_per_room</td>\n",
       "      <td>10.760093</td>\n",
       "    </tr>\n",
       "    <tr>\n",
       "      <th>10</th>\n",
       "      <td>no_of_special_requests</td>\n",
       "      <td>1.776254</td>\n",
       "    </tr>\n",
       "  </tbody>\n",
       "</table>\n",
       "</div>"
      ],
      "text/plain": [
       "                                features        VIF\n",
       "0                           no_of_adults  12.649706\n",
       "1                         no_of_children   1.234657\n",
       "2                   no_of_weekend_nights   1.940889\n",
       "3                      no_of_week_nights   3.522081\n",
       "4                              lead_time   2.140591\n",
       "5                          arrival_month   5.883727\n",
       "6                           arrival_date   3.733646\n",
       "7           no_of_previous_cancellations   1.287965\n",
       "8   no_of_previous_bookings_not_canceled   1.304029\n",
       "9                     avg_price_per_room  10.760093\n",
       "10                no_of_special_requests   1.776254"
      ]
     },
     "execution_count": 119,
     "metadata": {},
     "output_type": "execute_result"
    }
   ],
   "source": [
    "from statsmodels.stats.outliers_influence import variance_inflation_factor\n",
    "\n",
    "x = df[['no_of_adults','no_of_children','no_of_weekend_nights','no_of_week_nights','lead_time','arrival_month','arrival_date','no_of_previous_cancellations','no_of_previous_bookings_not_canceled','avg_price_per_room', 'no_of_special_requests']]\n",
    "\n",
    "vif_data = pd.DataFrame()\n",
    "\n",
    "vif_data['features'] = x.columns\n",
    "\n",
    "vif_data['VIF'] = [variance_inflation_factor(x.values, i) for i in range(len(x.columns))]\n",
    "\n",
    "vif_data"
   ]
  },
  {
   "cell_type": "code",
   "execution_count": 120,
   "id": "6122634d",
   "metadata": {},
   "outputs": [],
   "source": [
    "# removing no.of.adults"
   ]
  },
  {
   "cell_type": "code",
   "execution_count": 121,
   "id": "1a0a6880",
   "metadata": {},
   "outputs": [],
   "source": [
    "del df['no_of_adults']"
   ]
  },
  {
   "cell_type": "code",
   "execution_count": 122,
   "id": "250534ff",
   "metadata": {},
   "outputs": [
    {
     "data": {
      "text/plain": [
       "0    24390\n",
       "1    11885\n",
       "Name: booking_status, dtype: int64"
      ]
     },
     "execution_count": 122,
     "metadata": {},
     "output_type": "execute_result"
    }
   ],
   "source": [
    "df.booking_status.value_counts()"
   ]
  },
  {
   "cell_type": "code",
   "execution_count": 123,
   "id": "6cc689aa",
   "metadata": {},
   "outputs": [
    {
     "data": {
      "text/plain": [
       "1    27835\n",
       "0     5130\n",
       "2     3305\n",
       "3        5\n",
       "Name: type_of_meal_plan, dtype: int64"
      ]
     },
     "execution_count": 123,
     "metadata": {},
     "output_type": "execute_result"
    }
   ],
   "source": [
    "df.type_of_meal_plan.value_counts()"
   ]
  },
  {
   "cell_type": "code",
   "execution_count": 124,
   "id": "fef90c99",
   "metadata": {},
   "outputs": [
    {
     "data": {
      "text/plain": [
       "0    35151\n",
       "1     1124\n",
       "Name: required_car_parking_space, dtype: int64"
      ]
     },
     "execution_count": 124,
     "metadata": {},
     "output_type": "execute_result"
    }
   ],
   "source": [
    "df.required_car_parking_space.value_counts()"
   ]
  },
  {
   "cell_type": "code",
   "execution_count": 125,
   "id": "660d4b8b",
   "metadata": {},
   "outputs": [
    {
     "data": {
      "text/plain": [
       "1    28130\n",
       "4     6057\n",
       "6      966\n",
       "2      692\n",
       "5      265\n",
       "7      158\n",
       "3        7\n",
       "Name: room_type_reserved, dtype: int64"
      ]
     },
     "execution_count": 125,
     "metadata": {},
     "output_type": "execute_result"
    }
   ],
   "source": [
    "df.room_type_reserved.value_counts()"
   ]
  },
  {
   "cell_type": "code",
   "execution_count": 126,
   "id": "b7be3fdb",
   "metadata": {},
   "outputs": [
    {
     "data": {
      "text/plain": [
       "2    29761\n",
       "1     6514\n",
       "Name: arrival_year, dtype: int64"
      ]
     },
     "execution_count": 126,
     "metadata": {},
     "output_type": "execute_result"
    }
   ],
   "source": [
    "df.arrival_year.value_counts()"
   ]
  },
  {
   "cell_type": "code",
   "execution_count": 127,
   "id": "9ddda397",
   "metadata": {},
   "outputs": [
    {
     "data": {
      "text/plain": [
       "1    23214\n",
       "2    10528\n",
       "3     2017\n",
       "4      391\n",
       "5      125\n",
       "Name: market_segment_type, dtype: int64"
      ]
     },
     "execution_count": 127,
     "metadata": {},
     "output_type": "execute_result"
    }
   ],
   "source": [
    "df.market_segment_type.value_counts()"
   ]
  },
  {
   "cell_type": "code",
   "execution_count": 128,
   "id": "a401b73e",
   "metadata": {},
   "outputs": [
    {
     "data": {
      "text/plain": [
       "0    35345\n",
       "1      930\n",
       "Name: repeated_guest, dtype: int64"
      ]
     },
     "execution_count": 128,
     "metadata": {},
     "output_type": "execute_result"
    }
   ],
   "source": [
    "df.repeated_guest.value_counts()"
   ]
  },
  {
   "cell_type": "code",
   "execution_count": 129,
   "id": "4315fcb8",
   "metadata": {},
   "outputs": [],
   "source": [
    "df_rf = df.copy()"
   ]
  },
  {
   "cell_type": "code",
   "execution_count": 130,
   "id": "80de2453",
   "metadata": {},
   "outputs": [],
   "source": [
    "categorical = ['type_of_meal_plan', 'required_car_parking_space', 'room_type_reserved', 'arrival_year', 'market_segment_type', 'repeated_guest']"
   ]
  },
  {
   "cell_type": "code",
   "execution_count": 131,
   "id": "abe85258",
   "metadata": {},
   "outputs": [],
   "source": [
    "df_dummies_meal = pd.get_dummies(df['type_of_meal_plan'], drop_first=True, prefix = 'meal_plan')"
   ]
  },
  {
   "cell_type": "code",
   "execution_count": 132,
   "id": "933c8a64",
   "metadata": {},
   "outputs": [],
   "source": [
    "df = pd.concat([df,df_dummies_meal], axis=1)"
   ]
  },
  {
   "cell_type": "code",
   "execution_count": 133,
   "id": "b7f0abc8",
   "metadata": {},
   "outputs": [],
   "source": [
    "del df['type_of_meal_plan']"
   ]
  },
  {
   "cell_type": "code",
   "execution_count": 134,
   "id": "219f2aa4",
   "metadata": {},
   "outputs": [],
   "source": [
    "df_dummies_parking = pd.get_dummies(df['required_car_parking_space'], drop_first=True, prefix = 'parking')"
   ]
  },
  {
   "cell_type": "code",
   "execution_count": 135,
   "id": "6283829e",
   "metadata": {},
   "outputs": [],
   "source": [
    "df = pd.concat([df,df_dummies_parking], axis=1)"
   ]
  },
  {
   "cell_type": "code",
   "execution_count": 136,
   "id": "6005e74c",
   "metadata": {},
   "outputs": [],
   "source": [
    "del df['required_car_parking_space']"
   ]
  },
  {
   "cell_type": "code",
   "execution_count": 137,
   "id": "8bd6fd4e",
   "metadata": {},
   "outputs": [],
   "source": [
    "df_dummies_room = pd.get_dummies(df['room_type_reserved'], drop_first=True, prefix = 'room_type')"
   ]
  },
  {
   "cell_type": "code",
   "execution_count": 138,
   "id": "97b61523",
   "metadata": {},
   "outputs": [],
   "source": [
    "df = pd.concat([df,df_dummies_room], axis=1)"
   ]
  },
  {
   "cell_type": "code",
   "execution_count": 139,
   "id": "2bedb034",
   "metadata": {},
   "outputs": [],
   "source": [
    "del df['room_type_reserved']"
   ]
  },
  {
   "cell_type": "code",
   "execution_count": 140,
   "id": "dc7c2f77",
   "metadata": {},
   "outputs": [],
   "source": [
    "df_dummies_year = pd.get_dummies(df['arrival_year'], drop_first=True, prefix = 'year')"
   ]
  },
  {
   "cell_type": "code",
   "execution_count": 141,
   "id": "5ffc344b",
   "metadata": {},
   "outputs": [],
   "source": [
    "df = pd.concat([df,df_dummies_year], axis=1)"
   ]
  },
  {
   "cell_type": "code",
   "execution_count": 142,
   "id": "a220da39",
   "metadata": {},
   "outputs": [],
   "source": [
    "del df['arrival_year']"
   ]
  },
  {
   "cell_type": "code",
   "execution_count": 143,
   "id": "8bf3a4d8",
   "metadata": {},
   "outputs": [],
   "source": [
    "df_dummies_market = pd.get_dummies(df['market_segment_type'], drop_first=True, prefix = 'market_segment')"
   ]
  },
  {
   "cell_type": "code",
   "execution_count": 144,
   "id": "68864a14",
   "metadata": {},
   "outputs": [],
   "source": [
    "df = pd.concat([df,df_dummies_market], axis=1)"
   ]
  },
  {
   "cell_type": "code",
   "execution_count": 145,
   "id": "6b0228f2",
   "metadata": {},
   "outputs": [],
   "source": [
    "del df['market_segment_type']"
   ]
  },
  {
   "cell_type": "code",
   "execution_count": 146,
   "id": "ea96993e",
   "metadata": {},
   "outputs": [],
   "source": [
    "df_dummies_repeat = pd.get_dummies(df['repeated_guest'], drop_first=True, prefix = 'repeat_guest')"
   ]
  },
  {
   "cell_type": "code",
   "execution_count": 147,
   "id": "ca0e5897",
   "metadata": {},
   "outputs": [],
   "source": [
    "df = pd.concat([df,df_dummies_repeat], axis=1)"
   ]
  },
  {
   "cell_type": "code",
   "execution_count": 148,
   "id": "c5ced59c",
   "metadata": {},
   "outputs": [],
   "source": [
    "del df['repeated_guest']"
   ]
  },
  {
   "cell_type": "code",
   "execution_count": 149,
   "id": "d17899a7",
   "metadata": {},
   "outputs": [
    {
     "data": {
      "text/html": [
       "<div>\n",
       "<style scoped>\n",
       "    .dataframe tbody tr th:only-of-type {\n",
       "        vertical-align: middle;\n",
       "    }\n",
       "\n",
       "    .dataframe tbody tr th {\n",
       "        vertical-align: top;\n",
       "    }\n",
       "\n",
       "    .dataframe thead th {\n",
       "        text-align: right;\n",
       "    }\n",
       "</style>\n",
       "<table border=\"1\" class=\"dataframe\">\n",
       "  <thead>\n",
       "    <tr style=\"text-align: right;\">\n",
       "      <th></th>\n",
       "      <th>no_of_children</th>\n",
       "      <th>no_of_weekend_nights</th>\n",
       "      <th>no_of_week_nights</th>\n",
       "      <th>lead_time</th>\n",
       "      <th>arrival_month</th>\n",
       "      <th>arrival_date</th>\n",
       "      <th>no_of_previous_cancellations</th>\n",
       "      <th>no_of_previous_bookings_not_canceled</th>\n",
       "      <th>avg_price_per_room</th>\n",
       "      <th>no_of_special_requests</th>\n",
       "      <th>booking_status</th>\n",
       "      <th>meal_plan_1</th>\n",
       "      <th>meal_plan_2</th>\n",
       "      <th>meal_plan_3</th>\n",
       "      <th>parking_1</th>\n",
       "      <th>room_type_2</th>\n",
       "      <th>room_type_3</th>\n",
       "      <th>room_type_4</th>\n",
       "      <th>room_type_5</th>\n",
       "      <th>room_type_6</th>\n",
       "      <th>room_type_7</th>\n",
       "      <th>year_2</th>\n",
       "      <th>market_segment_2</th>\n",
       "      <th>market_segment_3</th>\n",
       "      <th>market_segment_4</th>\n",
       "      <th>market_segment_5</th>\n",
       "      <th>repeat_guest_1</th>\n",
       "    </tr>\n",
       "  </thead>\n",
       "  <tbody>\n",
       "    <tr>\n",
       "      <th>0</th>\n",
       "      <td>0</td>\n",
       "      <td>1</td>\n",
       "      <td>2</td>\n",
       "      <td>224</td>\n",
       "      <td>10</td>\n",
       "      <td>2</td>\n",
       "      <td>0</td>\n",
       "      <td>0</td>\n",
       "      <td>65.00</td>\n",
       "      <td>0</td>\n",
       "      <td>0</td>\n",
       "      <td>1</td>\n",
       "      <td>0</td>\n",
       "      <td>0</td>\n",
       "      <td>0</td>\n",
       "      <td>0</td>\n",
       "      <td>0</td>\n",
       "      <td>0</td>\n",
       "      <td>0</td>\n",
       "      <td>0</td>\n",
       "      <td>0</td>\n",
       "      <td>0</td>\n",
       "      <td>1</td>\n",
       "      <td>0</td>\n",
       "      <td>0</td>\n",
       "      <td>0</td>\n",
       "      <td>0</td>\n",
       "    </tr>\n",
       "    <tr>\n",
       "      <th>1</th>\n",
       "      <td>0</td>\n",
       "      <td>2</td>\n",
       "      <td>3</td>\n",
       "      <td>5</td>\n",
       "      <td>11</td>\n",
       "      <td>6</td>\n",
       "      <td>0</td>\n",
       "      <td>0</td>\n",
       "      <td>106.68</td>\n",
       "      <td>1</td>\n",
       "      <td>0</td>\n",
       "      <td>0</td>\n",
       "      <td>0</td>\n",
       "      <td>0</td>\n",
       "      <td>0</td>\n",
       "      <td>0</td>\n",
       "      <td>0</td>\n",
       "      <td>0</td>\n",
       "      <td>0</td>\n",
       "      <td>0</td>\n",
       "      <td>0</td>\n",
       "      <td>1</td>\n",
       "      <td>0</td>\n",
       "      <td>0</td>\n",
       "      <td>0</td>\n",
       "      <td>0</td>\n",
       "      <td>0</td>\n",
       "    </tr>\n",
       "    <tr>\n",
       "      <th>2</th>\n",
       "      <td>0</td>\n",
       "      <td>2</td>\n",
       "      <td>1</td>\n",
       "      <td>1</td>\n",
       "      <td>2</td>\n",
       "      <td>28</td>\n",
       "      <td>0</td>\n",
       "      <td>0</td>\n",
       "      <td>60.00</td>\n",
       "      <td>0</td>\n",
       "      <td>1</td>\n",
       "      <td>1</td>\n",
       "      <td>0</td>\n",
       "      <td>0</td>\n",
       "      <td>0</td>\n",
       "      <td>0</td>\n",
       "      <td>0</td>\n",
       "      <td>0</td>\n",
       "      <td>0</td>\n",
       "      <td>0</td>\n",
       "      <td>0</td>\n",
       "      <td>1</td>\n",
       "      <td>0</td>\n",
       "      <td>0</td>\n",
       "      <td>0</td>\n",
       "      <td>0</td>\n",
       "      <td>0</td>\n",
       "    </tr>\n",
       "    <tr>\n",
       "      <th>3</th>\n",
       "      <td>0</td>\n",
       "      <td>0</td>\n",
       "      <td>2</td>\n",
       "      <td>211</td>\n",
       "      <td>5</td>\n",
       "      <td>20</td>\n",
       "      <td>0</td>\n",
       "      <td>0</td>\n",
       "      <td>100.00</td>\n",
       "      <td>0</td>\n",
       "      <td>1</td>\n",
       "      <td>1</td>\n",
       "      <td>0</td>\n",
       "      <td>0</td>\n",
       "      <td>0</td>\n",
       "      <td>0</td>\n",
       "      <td>0</td>\n",
       "      <td>0</td>\n",
       "      <td>0</td>\n",
       "      <td>0</td>\n",
       "      <td>0</td>\n",
       "      <td>1</td>\n",
       "      <td>0</td>\n",
       "      <td>0</td>\n",
       "      <td>0</td>\n",
       "      <td>0</td>\n",
       "      <td>0</td>\n",
       "    </tr>\n",
       "    <tr>\n",
       "      <th>4</th>\n",
       "      <td>0</td>\n",
       "      <td>1</td>\n",
       "      <td>1</td>\n",
       "      <td>48</td>\n",
       "      <td>4</td>\n",
       "      <td>11</td>\n",
       "      <td>0</td>\n",
       "      <td>0</td>\n",
       "      <td>94.50</td>\n",
       "      <td>0</td>\n",
       "      <td>1</td>\n",
       "      <td>0</td>\n",
       "      <td>0</td>\n",
       "      <td>0</td>\n",
       "      <td>0</td>\n",
       "      <td>0</td>\n",
       "      <td>0</td>\n",
       "      <td>0</td>\n",
       "      <td>0</td>\n",
       "      <td>0</td>\n",
       "      <td>0</td>\n",
       "      <td>1</td>\n",
       "      <td>0</td>\n",
       "      <td>0</td>\n",
       "      <td>0</td>\n",
       "      <td>0</td>\n",
       "      <td>0</td>\n",
       "    </tr>\n",
       "  </tbody>\n",
       "</table>\n",
       "</div>"
      ],
      "text/plain": [
       "   no_of_children  no_of_weekend_nights  no_of_week_nights  lead_time  \\\n",
       "0               0                     1                  2        224   \n",
       "1               0                     2                  3          5   \n",
       "2               0                     2                  1          1   \n",
       "3               0                     0                  2        211   \n",
       "4               0                     1                  1         48   \n",
       "\n",
       "   arrival_month  arrival_date  no_of_previous_cancellations  \\\n",
       "0             10             2                             0   \n",
       "1             11             6                             0   \n",
       "2              2            28                             0   \n",
       "3              5            20                             0   \n",
       "4              4            11                             0   \n",
       "\n",
       "   no_of_previous_bookings_not_canceled  avg_price_per_room  \\\n",
       "0                                     0               65.00   \n",
       "1                                     0              106.68   \n",
       "2                                     0               60.00   \n",
       "3                                     0              100.00   \n",
       "4                                     0               94.50   \n",
       "\n",
       "   no_of_special_requests  booking_status  meal_plan_1  meal_plan_2  \\\n",
       "0                       0               0            1            0   \n",
       "1                       1               0            0            0   \n",
       "2                       0               1            1            0   \n",
       "3                       0               1            1            0   \n",
       "4                       0               1            0            0   \n",
       "\n",
       "   meal_plan_3  parking_1  room_type_2  room_type_3  room_type_4  room_type_5  \\\n",
       "0            0          0            0            0            0            0   \n",
       "1            0          0            0            0            0            0   \n",
       "2            0          0            0            0            0            0   \n",
       "3            0          0            0            0            0            0   \n",
       "4            0          0            0            0            0            0   \n",
       "\n",
       "   room_type_6  room_type_7  year_2  market_segment_2  market_segment_3  \\\n",
       "0            0            0       0                 1                 0   \n",
       "1            0            0       1                 0                 0   \n",
       "2            0            0       1                 0                 0   \n",
       "3            0            0       1                 0                 0   \n",
       "4            0            0       1                 0                 0   \n",
       "\n",
       "   market_segment_4  market_segment_5  repeat_guest_1  \n",
       "0                 0                 0               0  \n",
       "1                 0                 0               0  \n",
       "2                 0                 0               0  \n",
       "3                 0                 0               0  \n",
       "4                 0                 0               0  "
      ]
     },
     "execution_count": 149,
     "metadata": {},
     "output_type": "execute_result"
    }
   ],
   "source": [
    "df.head()"
   ]
  },
  {
   "cell_type": "code",
   "execution_count": 150,
   "id": "f5e45ae0",
   "metadata": {},
   "outputs": [],
   "source": [
    "x = df.iloc[:, df.columns != 'booking_status']"
   ]
  },
  {
   "cell_type": "code",
   "execution_count": 151,
   "id": "7b21ef5b",
   "metadata": {},
   "outputs": [],
   "source": [
    "y = df.iloc[:, df.columns == 'booking_status']"
   ]
  },
  {
   "cell_type": "code",
   "execution_count": 152,
   "id": "8ac0bb6a",
   "metadata": {},
   "outputs": [],
   "source": [
    "from sklearn.model_selection import StratifiedKFold\n",
    "skfold = StratifiedKFold(n_splits=5)"
   ]
  },
  {
   "cell_type": "code",
   "execution_count": 153,
   "id": "55aeb0b6",
   "metadata": {},
   "outputs": [],
   "source": [
    "from sklearn.model_selection import cross_val_score "
   ]
  },
  {
   "cell_type": "code",
   "execution_count": 154,
   "id": "f736804a",
   "metadata": {},
   "outputs": [
    {
     "ename": "NameError",
     "evalue": "name 'lr' is not defined",
     "output_type": "error",
     "traceback": [
      "\u001b[1;31m---------------------------------------------------------------------------\u001b[0m",
      "\u001b[1;31mNameError\u001b[0m                                 Traceback (most recent call last)",
      "Input \u001b[1;32mIn [154]\u001b[0m, in \u001b[0;36m<cell line: 1>\u001b[1;34m()\u001b[0m\n\u001b[1;32m----> 1\u001b[0m cross_val_score(\u001b[43mlr\u001b[49m, x, y\u001b[38;5;241m.\u001b[39msqueeze(), cv\u001b[38;5;241m=\u001b[39mskfold)\u001b[38;5;241m.\u001b[39mmean()\n",
      "\u001b[1;31mNameError\u001b[0m: name 'lr' is not defined"
     ]
    }
   ],
   "source": [
    "cross_val_score(lr, x, y.squeeze(), cv=skfold).mean()"
   ]
  },
  {
   "cell_type": "code",
   "execution_count": null,
   "id": "ba752978",
   "metadata": {},
   "outputs": [],
   "source": [
    "from sklearn.model_selection import train_test_split"
   ]
  },
  {
   "cell_type": "code",
   "execution_count": null,
   "id": "02dffdc8",
   "metadata": {},
   "outputs": [],
   "source": [
    "x_train, x_test, y_train, y_test = train_test_split(x,y,test_size=0.3, random_state=123)"
   ]
  },
  {
   "cell_type": "code",
   "execution_count": null,
   "id": "c36f6b07",
   "metadata": {},
   "outputs": [],
   "source": [
    "len(x_train)"
   ]
  },
  {
   "cell_type": "code",
   "execution_count": null,
   "id": "2f13297e",
   "metadata": {},
   "outputs": [],
   "source": [
    "len(y_train)"
   ]
  },
  {
   "cell_type": "code",
   "execution_count": null,
   "id": "647f1715",
   "metadata": {},
   "outputs": [],
   "source": [
    "len(x_test)"
   ]
  },
  {
   "cell_type": "code",
   "execution_count": null,
   "id": "68ac8c09",
   "metadata": {},
   "outputs": [],
   "source": [
    "len(y_test)"
   ]
  },
  {
   "cell_type": "code",
   "execution_count": null,
   "id": "352ea785",
   "metadata": {},
   "outputs": [],
   "source": [
    "from sklearn.linear_model import LogisticRegression\n",
    "lr = LogisticRegression(random_state=123, solver='liblinear')"
   ]
  },
  {
   "cell_type": "code",
   "execution_count": null,
   "id": "ff9adaf6",
   "metadata": {},
   "outputs": [],
   "source": [
    "model1 = lr.fit(x_train,y_train.squeeze())"
   ]
  },
  {
   "cell_type": "code",
   "execution_count": null,
   "id": "5da5771a",
   "metadata": {},
   "outputs": [],
   "source": [
    "y_pred_tr1 = model1.predict(x_train)"
   ]
  },
  {
   "cell_type": "code",
   "execution_count": null,
   "id": "5f27b45c",
   "metadata": {},
   "outputs": [],
   "source": [
    "y_pred_te1 = model1.predict(x_test)"
   ]
  },
  {
   "cell_type": "code",
   "execution_count": null,
   "id": "923c7293",
   "metadata": {},
   "outputs": [],
   "source": [
    "from sklearn.metrics import classification_report"
   ]
  },
  {
   "cell_type": "code",
   "execution_count": null,
   "id": "f7b2ec5b",
   "metadata": {},
   "outputs": [],
   "source": [
    "print(classification_report(y_test,y_pred_te1))"
   ]
  },
  {
   "cell_type": "code",
   "execution_count": null,
   "id": "9596ecc5",
   "metadata": {},
   "outputs": [],
   "source": [
    "y_pred_te1_proba = model1.predict_proba(x_test)"
   ]
  },
  {
   "cell_type": "code",
   "execution_count": null,
   "id": "117defcd",
   "metadata": {},
   "outputs": [],
   "source": [
    "from sklearn.metrics import roc_curve, roc_auc_score"
   ]
  },
  {
   "cell_type": "code",
   "execution_count": null,
   "id": "fe7117a5",
   "metadata": {},
   "outputs": [],
   "source": [
    "(fpr, tpr, thresholds) = roc_curve(y_test,y_pred_te1_proba[:,1])"
   ]
  },
  {
   "cell_type": "code",
   "execution_count": null,
   "id": "1833a148",
   "metadata": {},
   "outputs": [],
   "source": [
    "auc= roc_auc_score(y_test,y_pred_te1_proba[:,1])"
   ]
  },
  {
   "cell_type": "code",
   "execution_count": null,
   "id": "5960c232",
   "metadata": {},
   "outputs": [],
   "source": [
    "auc"
   ]
  },
  {
   "cell_type": "code",
   "execution_count": null,
   "id": "0bb9fbb3",
   "metadata": {},
   "outputs": [],
   "source": [
    "plt.plot(fpr,tpr, label = 'AUC=' + str(auc))\n",
    "plt.legend(loc='best')\n",
    "plt.title('ROC Curve for LogReg: liblinear')\n",
    "plt.xlabel('fpr')\n",
    "plt.ylabel('tpr')\n",
    "plt.plot([0,1],[0,1],'r--')\n",
    "plt.xlim([0,1])\n",
    "plt.ylim([0,1])"
   ]
  },
  {
   "cell_type": "code",
   "execution_count": null,
   "id": "aa2da2d4",
   "metadata": {},
   "outputs": [],
   "source": [
    "from imblearn.over_sampling import SMOTE\n",
    "smote = SMOTE(random_state=123)"
   ]
  },
  {
   "cell_type": "code",
   "execution_count": null,
   "id": "6d22a200",
   "metadata": {},
   "outputs": [],
   "source": [
    "x_sm,y_sm =smote.fit_resample(x,y)"
   ]
  },
  {
   "cell_type": "code",
   "execution_count": null,
   "id": "77a08306",
   "metadata": {},
   "outputs": [],
   "source": [
    "from sklearn.model_selection import train_test_split\n",
    "X_train, X_test, y_train, y_test= train_test_split(x_sm, y_sm, test_size=0.3, random_state=123, shuffle=True)"
   ]
  },
  {
   "cell_type": "code",
   "execution_count": null,
   "id": "b429bce3",
   "metadata": {},
   "outputs": [],
   "source": [
    "len(X_train)"
   ]
  },
  {
   "cell_type": "code",
   "execution_count": null,
   "id": "dcc47b9a",
   "metadata": {},
   "outputs": [],
   "source": [
    "len(y_train)"
   ]
  },
  {
   "cell_type": "code",
   "execution_count": null,
   "id": "3dfa0607",
   "metadata": {},
   "outputs": [],
   "source": [
    "len(X_test)"
   ]
  },
  {
   "cell_type": "code",
   "execution_count": null,
   "id": "0e61515d",
   "metadata": {},
   "outputs": [],
   "source": [
    "len(y_test)"
   ]
  },
  {
   "cell_type": "code",
   "execution_count": null,
   "id": "336072b2",
   "metadata": {},
   "outputs": [],
   "source": [
    "from sklearn.linear_model import LogisticRegression\n",
    "lr = LogisticRegression(random_state=123, solver='liblinear')"
   ]
  },
  {
   "cell_type": "code",
   "execution_count": null,
   "id": "86e9df42",
   "metadata": {},
   "outputs": [],
   "source": [
    "model2 = lr.fit(X_train,y_train.squeeze())"
   ]
  },
  {
   "cell_type": "code",
   "execution_count": null,
   "id": "2d98dcc9",
   "metadata": {},
   "outputs": [],
   "source": [
    "y_pred_tr1 = model2.predict(X_train)"
   ]
  },
  {
   "cell_type": "code",
   "execution_count": null,
   "id": "d5f7a6aa",
   "metadata": {},
   "outputs": [],
   "source": [
    "y_pred_te1 = model2.predict(X_test)"
   ]
  },
  {
   "cell_type": "code",
   "execution_count": null,
   "id": "aa4182c0",
   "metadata": {},
   "outputs": [],
   "source": [
    "from sklearn.metrics import classification_report"
   ]
  },
  {
   "cell_type": "code",
   "execution_count": null,
   "id": "6646094b",
   "metadata": {},
   "outputs": [],
   "source": [
    "print(classification_report(y_test,y_pred_te1))"
   ]
  },
  {
   "cell_type": "code",
   "execution_count": null,
   "id": "8e4861e2",
   "metadata": {},
   "outputs": [],
   "source": [
    "y_pred_te1_proba = model2.predict_proba(X_test)"
   ]
  },
  {
   "cell_type": "code",
   "execution_count": null,
   "id": "e482e126",
   "metadata": {},
   "outputs": [],
   "source": [
    "from sklearn.metrics import roc_curve, roc_auc_score"
   ]
  },
  {
   "cell_type": "code",
   "execution_count": null,
   "id": "9d1b572f",
   "metadata": {},
   "outputs": [],
   "source": [
    "(fpr, tpr, thresholds) = roc_curve(y_test,y_pred_te1_proba[:,1])"
   ]
  },
  {
   "cell_type": "code",
   "execution_count": null,
   "id": "bea3b2d0",
   "metadata": {},
   "outputs": [],
   "source": [
    "auc= roc_auc_score(y_test,y_pred_te1_proba[:,1])"
   ]
  },
  {
   "cell_type": "code",
   "execution_count": null,
   "id": "e84f102e",
   "metadata": {},
   "outputs": [],
   "source": [
    "auc"
   ]
  },
  {
   "cell_type": "code",
   "execution_count": null,
   "id": "f80573c5",
   "metadata": {},
   "outputs": [],
   "source": [
    "plt.plot(fpr,tpr, label = 'AUC=' + str(auc))\n",
    "plt.legend(loc='best')\n",
    "plt.title('ROC Curve for LogReg: liblinear')\n",
    "plt.xlabel('fpr')\n",
    "plt.ylabel('tpr')\n",
    "plt.plot([0,1],[0,1],'r--')\n",
    "plt.xlim([0,1])\n",
    "plt.ylim([0,1])"
   ]
  },
  {
   "cell_type": "code",
   "execution_count": null,
   "id": "d0a4627b",
   "metadata": {},
   "outputs": [],
   "source": [
    "# Find the optimal threshold based on the ROC curve\n",
    "optimal_idx = np.argmax(tpr - fpr)\n",
    "optimal_threshold = thresholds[optimal_idx]\n",
    "print(\"Optimal threshold:\", optimal_threshold)"
   ]
  },
  {
   "cell_type": "code",
   "execution_count": null,
   "id": "6343adaf",
   "metadata": {},
   "outputs": [],
   "source": [
    "y_pred_te1_proba"
   ]
  },
  {
   "cell_type": "code",
   "execution_count": null,
   "id": "408ec9cb",
   "metadata": {},
   "outputs": [],
   "source": [
    "y_pred = np.where(y_pred_te1_proba>=0.576,1,0)"
   ]
  },
  {
   "cell_type": "code",
   "execution_count": null,
   "id": "ddc70ca9",
   "metadata": {},
   "outputs": [],
   "source": [
    "y_pred"
   ]
  },
  {
   "cell_type": "code",
   "execution_count": null,
   "id": "44765ce9",
   "metadata": {},
   "outputs": [],
   "source": [
    "y_pred_te1"
   ]
  },
  {
   "cell_type": "code",
   "execution_count": null,
   "id": "59a24a76",
   "metadata": {},
   "outputs": [],
   "source": [
    "y_pred.squeeze()"
   ]
  },
  {
   "cell_type": "code",
   "execution_count": null,
   "id": "d47f9ccf",
   "metadata": {
    "scrolled": true
   },
   "outputs": [],
   "source": [
    "y_pred[:,1]"
   ]
  },
  {
   "cell_type": "code",
   "execution_count": null,
   "id": "c09cd49b",
   "metadata": {
    "scrolled": true
   },
   "outputs": [],
   "source": [
    "print(classification_report(y_test,y_pred[:,1]))"
   ]
  },
  {
   "cell_type": "code",
   "execution_count": null,
   "id": "6d21cb92",
   "metadata": {},
   "outputs": [],
   "source": [
    "x = df_rf.iloc[:, df_rf.columns != 'booking_status']"
   ]
  },
  {
   "cell_type": "code",
   "execution_count": null,
   "id": "aea40dc2",
   "metadata": {},
   "outputs": [],
   "source": [
    "y = df_rf.iloc[:, df_rf.columns == 'booking_status']"
   ]
  },
  {
   "cell_type": "code",
   "execution_count": null,
   "id": "dbf7303a",
   "metadata": {},
   "outputs": [],
   "source": [
    "from sklearn.model_selection import train_test_split"
   ]
  },
  {
   "cell_type": "code",
   "execution_count": null,
   "id": "dfb43415",
   "metadata": {},
   "outputs": [],
   "source": [
    "x_train, x_test, y_train, y_test = train_test_split(x,y,test_size=0.3, random_state=123)"
   ]
  },
  {
   "cell_type": "code",
   "execution_count": null,
   "id": "c6a4993b",
   "metadata": {},
   "outputs": [],
   "source": [
    "len(x_train)"
   ]
  },
  {
   "cell_type": "code",
   "execution_count": null,
   "id": "6dccb832",
   "metadata": {},
   "outputs": [],
   "source": [
    "len(y_train)"
   ]
  },
  {
   "cell_type": "code",
   "execution_count": null,
   "id": "e3e2c073",
   "metadata": {},
   "outputs": [],
   "source": [
    "len(x_test)"
   ]
  },
  {
   "cell_type": "code",
   "execution_count": null,
   "id": "822b7f0c",
   "metadata": {},
   "outputs": [],
   "source": [
    "len(y_test)"
   ]
  },
  {
   "cell_type": "code",
   "execution_count": null,
   "id": "782c5dbc",
   "metadata": {},
   "outputs": [],
   "source": [
    "from sklearn.ensemble import RandomForestClassifier\n",
    "rfr = RandomForestClassifier(random_state=123)"
   ]
  },
  {
   "cell_type": "code",
   "execution_count": null,
   "id": "4cb641c3",
   "metadata": {},
   "outputs": [],
   "source": [
    "from sklearn.model_selection import RandomizedSearchCV"
   ]
  },
  {
   "cell_type": "code",
   "execution_count": null,
   "id": "ff1295ff",
   "metadata": {},
   "outputs": [],
   "source": [
    "params = {'max_depth': [4,6,8,9,10,11,12,13,14], 'min_samples_split': [2,3,4],'max_features':['sqrt', 0.5, 0.25,'log2'], 'n_estimators': [50,100,150]}"
   ]
  },
  {
   "cell_type": "code",
   "execution_count": null,
   "id": "92a5806d",
   "metadata": {},
   "outputs": [],
   "source": [
    "clf = RandomizedSearchCV(rfr, params, n_iter=10, cv=5)"
   ]
  },
  {
   "cell_type": "code",
   "execution_count": null,
   "id": "2fbba1b8",
   "metadata": {},
   "outputs": [],
   "source": [
    "model3 = clf.fit(x_train,y_train)"
   ]
  },
  {
   "cell_type": "code",
   "execution_count": null,
   "id": "fcc2a1a2",
   "metadata": {},
   "outputs": [],
   "source": [
    "model3.best_params_"
   ]
  },
  {
   "cell_type": "code",
   "execution_count": null,
   "id": "951de9a3",
   "metadata": {},
   "outputs": [],
   "source": [
    "model3.best_score_"
   ]
  },
  {
   "cell_type": "code",
   "execution_count": null,
   "id": "43323e52",
   "metadata": {},
   "outputs": [],
   "source": [
    "model3.score(x_train,y_train)"
   ]
  },
  {
   "cell_type": "code",
   "execution_count": null,
   "id": "69fbb999",
   "metadata": {},
   "outputs": [],
   "source": [
    "rfr = RandomForestClassifier(n_estimators=150,n_jobs=-1, min_samples_split=2, max_features='sqrt',max_depth=14, oob_score=True, random_state=123)"
   ]
  },
  {
   "cell_type": "code",
   "execution_count": null,
   "id": "a7b90e1a",
   "metadata": {},
   "outputs": [],
   "source": [
    "model4 = rfr.fit(x_train,y_train)"
   ]
  },
  {
   "cell_type": "code",
   "execution_count": null,
   "id": "11b7b305",
   "metadata": {},
   "outputs": [],
   "source": [
    "y_pred_te_rf = model4.predict(x_test)"
   ]
  },
  {
   "cell_type": "code",
   "execution_count": null,
   "id": "d88f7684",
   "metadata": {},
   "outputs": [],
   "source": [
    "model4.score(x_test,y_test)"
   ]
  },
  {
   "cell_type": "code",
   "execution_count": null,
   "id": "7530da2d",
   "metadata": {},
   "outputs": [],
   "source": [
    "model4.feature_importances_"
   ]
  },
  {
   "cell_type": "code",
   "execution_count": null,
   "id": "8ebacf1d",
   "metadata": {},
   "outputs": [],
   "source": [
    "model4.oob_score_"
   ]
  },
  {
   "cell_type": "code",
   "execution_count": null,
   "id": "09cf04a5",
   "metadata": {},
   "outputs": [],
   "source": [
    "from sklearn.metrics import classification_report"
   ]
  },
  {
   "cell_type": "code",
   "execution_count": null,
   "id": "9387b950",
   "metadata": {},
   "outputs": [],
   "source": [
    "print(classification_report(y_test,y_pred_te_rf))"
   ]
  },
  {
   "cell_type": "code",
   "execution_count": null,
   "id": "4b4ab281",
   "metadata": {},
   "outputs": [],
   "source": [
    "y_pred_te1_proba = model4.predict_proba(x_test)"
   ]
  },
  {
   "cell_type": "code",
   "execution_count": null,
   "id": "90946a4e",
   "metadata": {},
   "outputs": [],
   "source": [
    "from sklearn.metrics import roc_curve, roc_auc_score"
   ]
  },
  {
   "cell_type": "code",
   "execution_count": null,
   "id": "9a3016b0",
   "metadata": {},
   "outputs": [],
   "source": [
    "(fpr, tpr, thresholds) = roc_curve(y_test,y_pred_te1_proba[:,1])"
   ]
  },
  {
   "cell_type": "code",
   "execution_count": null,
   "id": "b27b835c",
   "metadata": {},
   "outputs": [],
   "source": [
    "auc= roc_auc_score(y_test,y_pred_te1_proba[:,1])"
   ]
  },
  {
   "cell_type": "code",
   "execution_count": null,
   "id": "a8a30a74",
   "metadata": {},
   "outputs": [],
   "source": [
    "auc"
   ]
  },
  {
   "cell_type": "code",
   "execution_count": null,
   "id": "ab96d892",
   "metadata": {},
   "outputs": [],
   "source": [
    "plt.plot(fpr,tpr, label = 'AUC=' + str(auc))\n",
    "plt.legend(loc='best')\n",
    "plt.title('ROC Curve for LogReg: liblinear')\n",
    "plt.xlabel('fpr')\n",
    "plt.ylabel('tpr')\n",
    "plt.plot([0,1],[0,1],'r--')\n",
    "plt.xlim([0,1])\n",
    "plt.ylim([0,1])"
   ]
  },
  {
   "cell_type": "code",
   "execution_count": null,
   "id": "aaa1d822",
   "metadata": {},
   "outputs": [],
   "source": [
    "# Find the optimal threshold based on the ROC curve\n",
    "optimal_idx = np.argmax(tpr - fpr)\n",
    "optimal_threshold = thresholds[optimal_idx]\n",
    "print(\"Optimal threshold:\", optimal_threshold)"
   ]
  },
  {
   "cell_type": "code",
   "execution_count": null,
   "id": "98ace5a3",
   "metadata": {},
   "outputs": [],
   "source": [
    "y_pred_te1_proba"
   ]
  },
  {
   "cell_type": "code",
   "execution_count": null,
   "id": "99148a23",
   "metadata": {},
   "outputs": [],
   "source": [
    "y_pred = np.where(y_pred_te1_proba>=0.304,1,0)"
   ]
  },
  {
   "cell_type": "code",
   "execution_count": null,
   "id": "4599537d",
   "metadata": {},
   "outputs": [],
   "source": [
    "y_pred"
   ]
  },
  {
   "cell_type": "code",
   "execution_count": null,
   "id": "82cc9d86",
   "metadata": {
    "scrolled": true
   },
   "outputs": [],
   "source": [
    "y_pred[:,1]"
   ]
  },
  {
   "cell_type": "code",
   "execution_count": null,
   "id": "73b55247",
   "metadata": {
    "scrolled": true
   },
   "outputs": [],
   "source": [
    "print(classification_report(y_test,y_pred[:,1]))"
   ]
  },
  {
   "cell_type": "code",
   "execution_count": null,
   "id": "df0bf241",
   "metadata": {},
   "outputs": [],
   "source": []
  }
 ],
 "metadata": {
  "kernelspec": {
   "display_name": "Python 3 (ipykernel)",
   "language": "python",
   "name": "python3"
  },
  "language_info": {
   "codemirror_mode": {
    "name": "ipython",
    "version": 3
   },
   "file_extension": ".py",
   "mimetype": "text/x-python",
   "name": "python",
   "nbconvert_exporter": "python",
   "pygments_lexer": "ipython3",
   "version": "3.9.12"
  }
 },
 "nbformat": 4,
 "nbformat_minor": 5
}
